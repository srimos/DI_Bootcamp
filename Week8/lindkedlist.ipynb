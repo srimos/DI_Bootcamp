{
 "cells": [
  {
   "cell_type": "code",
   "execution_count": 22,
   "id": "deb3d995",
   "metadata": {},
   "outputs": [
    {
     "name": "stdout",
     "output_type": "stream",
     "text": [
      "Laurie\n"
     ]
    }
   ],
   "source": [
    "class LinkedList:\n",
    "    # Needs to store pointer to first element\n",
    "    def __init__(self,data):\n",
    "        self.starting = data #stores the memory pointer (memory) to data\n",
    "        self.last=self.starting\n",
    "\n",
    "    def which_students_are_present(self):\n",
    "        current_node = self.starting\n",
    "        print(current_node)\n",
    "        while(current_node.next):\n",
    "            current_node = current_node.next\n",
    "            print(current_node)\n",
    "\n",
    "    def add(self,node):\n",
    "        counter=1\n",
    "        self.last.next=node\n",
    "        self.last=node\n",
    "        print(\"add code ran %d times\" % counter)\n",
    "\n",
    "    def add_complexity_n(self,node):    \n",
    "        current_node = self.starting\n",
    "        while(current_node.next):\n",
    "            current_node = current_node.next\n",
    "        current_node.next=node\n",
    "\n",
    "    def remove(self,name):\n",
    "        current_node = self.starting\n",
    "        previous_node = None\n",
    "        while (current_node and current_node.name != name):\n",
    "            previous_node=current_node\n",
    "            if (current_node.next):\n",
    "                current_node=current_node.next\n",
    "            else:\n",
    "                return\n",
    "        previous_node.next=current_node.next    \n",
    "\n",
    "class Node: \n",
    "    def __init__(self,student_name):\n",
    "        self.name=student_name\n",
    "        self.next=None\n",
    "\n",
    "    def __str__(self):\n",
    "        return self.name\n",
    "\n",
    "student_laurie = Node(\"Laurie\")\n",
    "students_present = LinkedList(student_laurie)\n",
    "students_present.which_students_are_present()"
   ]
  },
  {
   "cell_type": "code",
   "execution_count": 23,
   "id": "309130c2",
   "metadata": {},
   "outputs": [
    {
     "name": "stdout",
     "output_type": "stream",
     "text": [
      "add code ran 1 times\n",
      "Laurie\n",
      "Shaun\n"
     ]
    }
   ],
   "source": [
    "student_shaun = Node(\"Shaun\")\n",
    "students_present.add(student_shaun)\n",
    "students_present.which_students_are_present()"
   ]
  },
  {
   "cell_type": "code",
   "execution_count": 24,
   "id": "88273a5f",
   "metadata": {},
   "outputs": [
    {
     "name": "stdout",
     "output_type": "stream",
     "text": [
      "add code ran 1 times\n",
      "Laurie\n",
      "Shaun\n",
      "Asmi\n"
     ]
    }
   ],
   "source": [
    "student_asmi = Node(\"Asmi\")\n",
    "students_present.add(student_asmi)\n",
    "students_present.which_students_are_present()"
   ]
  },
  {
   "cell_type": "code",
   "execution_count": 25,
   "id": "0d3dbbfa",
   "metadata": {},
   "outputs": [
    {
     "name": "stdout",
     "output_type": "stream",
     "text": [
      "add code ran 1 times\n",
      "Laurie\n",
      "Shaun\n",
      "Asmi\n",
      "Reshmee\n"
     ]
    }
   ],
   "source": [
    "student_reshmee = Node(\"Reshmee\")\n",
    "students_present.add(student_reshmee)\n",
    "students_present.which_students_are_present()"
   ]
  },
  {
   "cell_type": "code",
   "execution_count": 26,
   "id": "90deaf2e",
   "metadata": {},
   "outputs": [
    {
     "name": "stdout",
     "output_type": "stream",
     "text": [
      "Laurie\n",
      "Shaun\n",
      "Reshmee\n"
     ]
    }
   ],
   "source": [
    "students_present.remove(\"Asmi\")\n",
    "students_present.which_students_are_present()"
   ]
  }
 ],
 "metadata": {
  "kernelspec": {
   "display_name": ".venv",
   "language": "python",
   "name": "python3"
  },
  "language_info": {
   "codemirror_mode": {
    "name": "ipython",
    "version": 3
   },
   "file_extension": ".py",
   "mimetype": "text/x-python",
   "name": "python",
   "nbconvert_exporter": "python",
   "pygments_lexer": "ipython3",
   "version": "3.13.5"
  }
 },
 "nbformat": 4,
 "nbformat_minor": 5
}
