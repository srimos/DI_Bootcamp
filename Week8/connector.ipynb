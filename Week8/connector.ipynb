{
 "cells": [
  {
   "cell_type": "code",
   "execution_count": 5,
   "id": "71b4f96a",
   "metadata": {},
   "outputs": [
    {
     "name": "stdout",
     "output_type": "stream",
     "text": [
      "Database connected successfully\n"
     ]
    }
   ],
   "source": [
    "import psycopg2\n",
    "\n",
    "DB_NAME = \"public\"\n",
    "DB_USER = \"public_owner\"\n",
    "DB_PASS = \"npg_pMNenJu0R4gk\"\n",
    "DB_HOST = \"ep-ancient-truth-a1zkheio.ap-southeast-1.aws.neon.tech\"\n",
    "DB_PORT = \"5432\"\n",
    "\n",
    "try:\n",
    "    conn = psycopg2.connect(database=DB_NAME,\n",
    "                            user=DB_USER,\n",
    "                            password=DB_PASS,\n",
    "                            host=DB_HOST,\n",
    "                            port=DB_PORT)\n",
    "    print(\"Database connected successfully\")\n",
    "except:\n",
    "    print(\"Database not connected successfully\")"
   ]
  },
  {
   "cell_type": "code",
   "execution_count": 6,
   "id": "74095139",
   "metadata": {},
   "outputs": [
    {
     "name": "stdout",
     "output_type": "stream",
     "text": [
      "('1', 'Greg', 'Jones')\n",
      "('2', 'Sandra', 'Jones')\n",
      "('3', 'Scott', 'Scott')\n",
      "('4', 'Trevor', 'Green')\n",
      "('5', 'Melanie', 'Johnson')\n"
     ]
    }
   ],
   "source": [
    "query=\"select * from customers\"\n",
    "try:\n",
    "        cur=conn.cursor()\n",
    "        cur.execute(query)\n",
    "        result=cur.fetchall()\n",
    "        for row in result:\n",
    "                print(row)\n",
    "                cur.close()\n",
    "                conn.close()\n",
    "except Exception as e:\n",
    "        print(\"Error executing query\")\n",
    "        print(e)"
   ]
  }
 ],
 "metadata": {
  "kernelspec": {
   "display_name": ".venv",
   "language": "python",
   "name": "python3"
  },
  "language_info": {
   "codemirror_mode": {
    "name": "ipython",
    "version": 3
   },
   "file_extension": ".py",
   "mimetype": "text/x-python",
   "name": "python",
   "nbconvert_exporter": "python",
   "pygments_lexer": "ipython3",
   "version": "3.13.5"
  }
 },
 "nbformat": 4,
 "nbformat_minor": 5
}
