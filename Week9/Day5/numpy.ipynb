{
 "cells": [
  {
   "cell_type": "code",
   "execution_count": 1,
   "id": "323a7e95",
   "metadata": {},
   "outputs": [
    {
     "name": "stdout",
     "output_type": "stream",
     "text": [
      "[10 20 30]\n"
     ]
    }
   ],
   "source": [
    "import numpy as np\n",
    "\n",
    "np_marks=np.array([10,20,30])\n",
    "print(np_marks)\n"
   ]
  },
  {
   "cell_type": "code",
   "execution_count": 3,
   "id": "491cb4ce",
   "metadata": {},
   "outputs": [
    {
     "name": "stdout",
     "output_type": "stream",
     "text": [
      "(3,)\n",
      "int64\n",
      "1\n",
      "3\n"
     ]
    }
   ],
   "source": [
    "print(np_marks.shape)\n",
    "print(np_marks.dtype)\n",
    "print(np_marks.ndim)\n",
    "print(np_marks.size)"
   ]
  },
  {
   "cell_type": "code",
   "execution_count": null,
   "id": "c9df05a6",
   "metadata": {},
   "outputs": [],
   "source": [
    "data=[10,20,30,40,50,60]\n",
    "np_data=np.array(data)\n"
   ]
  },
  {
   "cell_type": "code",
   "execution_count": 4,
   "id": "deab76d6",
   "metadata": {},
   "outputs": [
    {
     "name": "stdout",
     "output_type": "stream",
     "text": [
      "[[0. 0. 0.]\n",
      " [0. 0. 0.]\n",
      " [0. 0. 0.]\n",
      " [0. 0. 0.]]\n"
     ]
    }
   ],
   "source": [
    "test=np.zeros([4,3])\n",
    "print(test)"
   ]
  },
  {
   "cell_type": "code",
   "execution_count": 6,
   "id": "05217164",
   "metadata": {},
   "outputs": [
    {
     "name": "stdout",
     "output_type": "stream",
     "text": [
      "[[1. 1. 1.]\n",
      " [1. 1. 1.]\n",
      " [1. 1. 1.]\n",
      " [1. 1. 1.]]\n"
     ]
    }
   ],
   "source": [
    "test1=np.ones([4,3])\n",
    "print(test1)"
   ]
  },
  {
   "cell_type": "code",
   "execution_count": 7,
   "id": "1c336e49",
   "metadata": {},
   "outputs": [
    {
     "name": "stdout",
     "output_type": "stream",
     "text": [
      "[[5. 5. 5.]\n",
      " [5. 5. 5.]\n",
      " [5. 5. 5.]\n",
      " [5. 5. 5.]]\n"
     ]
    }
   ],
   "source": [
    "test2=test1*5\n",
    "print(test2)"
   ]
  },
  {
   "cell_type": "code",
   "execution_count": 8,
   "id": "33625a17",
   "metadata": {},
   "outputs": [
    {
     "name": "stdout",
     "output_type": "stream",
     "text": [
      "[[6. 6. 6.]\n",
      " [6. 6. 6.]\n",
      " [6. 6. 6.]\n",
      " [6. 6. 6.]]\n"
     ]
    }
   ],
   "source": [
    "test3=test1+test2\n",
    "print(test3)"
   ]
  },
  {
   "cell_type": "code",
   "execution_count": 11,
   "id": "e9e16be1",
   "metadata": {},
   "outputs": [
    {
     "name": "stdout",
     "output_type": "stream",
     "text": [
      "[0 2 4 6 8]\n"
     ]
    }
   ],
   "source": [
    "data=np.arange(0,10,2)\n",
    "print(data)"
   ]
  },
  {
   "cell_type": "code",
   "execution_count": 13,
   "id": "b4c32f2c",
   "metadata": {},
   "outputs": [
    {
     "name": "stdout",
     "output_type": "stream",
     "text": [
      "[ 0.   2.5  5.   7.5 10. ]\n"
     ]
    }
   ],
   "source": [
    "data2=np.linspace(0,10,5)\n",
    "print(data2)"
   ]
  },
  {
   "cell_type": "code",
   "execution_count": 15,
   "id": "4a1c7b6a",
   "metadata": {},
   "outputs": [
    {
     "name": "stdout",
     "output_type": "stream",
     "text": [
      "[69. 27. 12. 54. 21.]\n"
     ]
    }
   ],
   "source": [
    "data4=np.random.rand(5)\n",
    "print(np.floor(data4*100))"
   ]
  },
  {
   "cell_type": "code",
   "execution_count": 16,
   "id": "fd92e5aa",
   "metadata": {},
   "outputs": [
    {
     "name": "stdout",
     "output_type": "stream",
     "text": [
      "[10 82 89 53 43 53 75 59 90 27]\n"
     ]
    }
   ],
   "source": [
    "data5=np.random.randint(0,100,10)\n",
    "print(data5)"
   ]
  },
  {
   "cell_type": "code",
   "execution_count": 18,
   "id": "278d623b",
   "metadata": {},
   "outputs": [
    {
     "name": "stdout",
     "output_type": "stream",
     "text": [
      "[[10 20 30]\n",
      " [40 50 60]]\n"
     ]
    }
   ],
   "source": [
    "data=np.array([10,20,30,40,50,60])\n",
    "data2=data.reshape(2,3)\n",
    "print(data2)"
   ]
  },
  {
   "cell_type": "code",
   "execution_count": 20,
   "id": "66463423",
   "metadata": {},
   "outputs": [
    {
     "name": "stdout",
     "output_type": "stream",
     "text": [
      "[[1 2 3]\n",
      " [4 5 6]\n",
      " [7 8 9]]\n",
      "[2 5 8]\n"
     ]
    }
   ],
   "source": [
    "data7=np.array([[1,2,3],[4,5,6],[7,8,9]])\n",
    "print(data7)\n",
    "second_column=data7[:,1]\n",
    "print(second_column)"
   ]
  },
  {
   "cell_type": "code",
   "execution_count": 21,
   "id": "7c91fd13",
   "metadata": {},
   "outputs": [
    {
     "name": "stdout",
     "output_type": "stream",
     "text": [
      "[4. 5. 6.]\n"
     ]
    }
   ],
   "source": [
    "avg=np.mean(data7,axis=0)\n",
    "print(avg)"
   ]
  },
  {
   "cell_type": "code",
   "execution_count": 22,
   "id": "38eb1ad0",
   "metadata": {},
   "outputs": [
    {
     "name": "stdout",
     "output_type": "stream",
     "text": [
      "[[1 3 2]\n",
      " [4 6 5]\n",
      " [7 9 8]]\n"
     ]
    }
   ],
   "source": [
    "data7[:,[1,2]]=data7[:,[2,1]]\n",
    "print(data7)"
   ]
  }
 ],
 "metadata": {
  "kernelspec": {
   "display_name": ".venv",
   "language": "python",
   "name": "python3"
  },
  "language_info": {
   "codemirror_mode": {
    "name": "ipython",
    "version": 3
   },
   "file_extension": ".py",
   "mimetype": "text/x-python",
   "name": "python",
   "nbconvert_exporter": "python",
   "pygments_lexer": "ipython3",
   "version": "3.13.5"
  }
 },
 "nbformat": 4,
 "nbformat_minor": 5
}
