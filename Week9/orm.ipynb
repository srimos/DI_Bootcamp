{
 "cells": [
  {
   "cell_type": "code",
   "execution_count": null,
   "id": "92609a95",
   "metadata": {},
   "outputs": [],
   "source": [
    "from sqlalchemy import sessionmaker\n",
    "import sqlalchemy as db\n",
    "from sqlalchemy .ext.declarative import declarative_base"
   ]
  },
  {
   "cell_type": "code",
   "execution_count": null,
   "id": "25bc2e9f",
   "metadata": {},
   "outputs": [],
   "source": [
    "connection_string = \n",
    "engine = db.create.engine(connection_string)\n"
   ]
  },
  {
   "cell_type": "code",
   "execution_count": null,
   "id": "5c546cb9",
   "metadata": {},
   "outputs": [],
   "source": [
    "Base = declarative_base()\n",
    "\n",
    "class Items(Base):\n",
    "    __tablename__ = 'items'\n",
    "id = db.Column(db.integer, primary_key=True)\n",
    "name = db.Column(db.String(50))\n",
    "price = db.Column(db.Float)\n",
    "quantity = db.Column(db.Integer)\n",
    "description = db.Column(db.String(255))\n"
   ]
  },
  {
   "cell_type": "code",
   "execution_count": null,
   "id": "e662b632",
   "metadata": {},
   "outputs": [],
   "source": [
    "Session = sessionmaker (bind=engine)\n",
    "session = Session()"
   ]
  },
  {
   "cell_type": "code",
   "execution_count": null,
   "id": "061f3531",
   "metadata": {},
   "outputs": [],
   "source": [
    "Base.metadata.create_all(engine)"
   ]
  },
  {
   "cell_type": "code",
   "execution_count": null,
   "id": "8450aad2",
   "metadata": {},
   "outputs": [],
   "source": [
    "i1 = Items(name='Laptop',price=40000.00,quantity=10,description='A high-performance laptop')\n",
    "\n",
    "session.add(i1)\n",
    "\n",
    "session.commit()\n"
   ]
  },
  {
   "cell_type": "code",
   "execution_count": null,
   "id": "7439f07f",
   "metadata": {},
   "outputs": [],
   "source": [
    "items=session.query(Items).all()\n",
    "for items in items:\n",
    "    print(f\"ID: {item.id}, Name: {item.name}, Price: {item.price}, Quantity: {item.quantity}, Description: {item.description}\")\n",
    "    "
   ]
  }
 ],
 "metadata": {
  "language_info": {
   "name": "python"
  }
 },
 "nbformat": 4,
 "nbformat_minor": 5
}
