{
 "cells": [
  {
   "cell_type": "code",
   "execution_count": null,
   "id": "a2b74f08",
   "metadata": {},
   "outputs": [],
   "source": [
    "1. O(1)\n",
    "2. O(n^2)\n",
    "3. O(n)"
   ]
  },
  {
   "cell_type": "code",
   "execution_count": null,
   "id": "117d7cc4",
   "metadata": {},
   "outputs": [
    {
     "name": "stdout",
     "output_type": "stream",
     "text": [
      "0\n",
      "2 5 True\n",
      "Number moved!\n",
      "[2, 5, 9, 1, 5, 6]\n",
      "2\n",
      "1\n",
      "0\n",
      "9 5 False\n",
      "1\n",
      "9 2 False\n",
      "2\n",
      "[2, 5, 9, 1, 5, 6]\n",
      "3\n",
      "2\n",
      "0\n",
      "1 9 True\n",
      "Number moved!\n",
      "[2, 5, 1, 9, 5, 6]\n",
      "4\n",
      "3\n",
      "0\n",
      "5 9 True\n",
      "Number moved!\n",
      "[2, 5, 1, 5, 9, 6]\n",
      "5\n",
      "4\n",
      "0\n",
      "6 9 True\n",
      "Number moved!\n",
      "[2, 5, 1, 5, 6, 9]\n",
      "6\n",
      "5\n",
      "[2, 5, 1, 5, 6, 9]\n"
     ]
    }
   ],
   "source": [
    "numbers = [5, 2, 9, 1, 5, 6]\n",
    "\n",
    "def insertion_sort(numbers):\n",
    "    n=len(numbers)\n",
    "    i=1\n",
    "    j=i-1\n",
    "    move=False\n",
    "    while i <= n-1:\n",
    "        k=0\n",
    "        print(k)\n",
    "        while numbers[]\n",
    "            if numbers[i] < numbers[j-k]:\n",
    "                print(numbers[i],numbers[j-k],\"True\")\n",
    "                move=True\n",
    "                break\n",
    "            else:\n",
    "                print(numbers[i],numbers[j-k],\"False\")\n",
    "                k=k+1\n",
    "                print(k)\n",
    "        if move==True:\n",
    "            item=numbers.pop(i)\n",
    "            numbers.insert(j-k,item)\n",
    "            print(\"Number moved!\")\n",
    "            move=False\n",
    "        else:\n",
    "            pass\n",
    "        print(numbers)\n",
    "        i=i+1\n",
    "        j=j+1\n",
    "        print(i)\n",
    "        print(j)\n",
    "        \n",
    "insertion_sort(numbers) # sorts the numbers list\n",
    "print(numbers) # check that the sorting is successful"
   ]
  }
 ],
 "metadata": {
  "kernelspec": {
   "display_name": ".venv",
   "language": "python",
   "name": "python3"
  },
  "language_info": {
   "codemirror_mode": {
    "name": "ipython",
    "version": 3
   },
   "file_extension": ".py",
   "mimetype": "text/x-python",
   "name": "python",
   "nbconvert_exporter": "python",
   "pygments_lexer": "ipython3",
   "version": "3.13.5"
  }
 },
 "nbformat": 4,
 "nbformat_minor": 5
}
