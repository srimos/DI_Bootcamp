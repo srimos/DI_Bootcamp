{
 "cells": [
  {
   "cell_type": "code",
   "execution_count": 1,
   "id": "c660a000",
   "metadata": {},
   "outputs": [
    {
     "name": "stdout",
     "output_type": "stream",
     "text": [
      "I am learning Javascript and Python.\n",
      "Finished!\n"
     ]
    }
   ],
   "source": [
    "def display_message():\n",
    "    print(\"I am learning Javascript and Python.\")\n",
    "\n",
    "display_message()\n",
    "\n",
    "print(\"Finished!\")"
   ]
  },
  {
   "cell_type": "code",
   "execution_count": 3,
   "id": "fce524f9",
   "metadata": {},
   "outputs": [
    {
     "name": "stdout",
     "output_type": "stream",
     "text": [
      "One of my favourite books is Sherlock Holmes.\n",
      "Finished!\n"
     ]
    }
   ],
   "source": [
    "def favourite_book(title):\n",
    "    print(f\"One of my favourite books is {title}.\")\n",
    "\n",
    "title=input(\"Name one of your favourite books: \")\n",
    "favourite_book(title)\n",
    "\n",
    "print(\"Finished!\")"
   ]
  },
  {
   "cell_type": "code",
   "execution_count": 4,
   "id": "7d84e6ad",
   "metadata": {},
   "outputs": [
    {
     "name": "stdout",
     "output_type": "stream",
     "text": [
      "Port Louis is in Mauritius\n",
      "Port Louis is in France\n",
      "Finished!\n"
     ]
    }
   ],
   "source": [
    "def describe_city(city,country=\"Mauritius\"):\n",
    "    print(city,\"is in\",country)\n",
    "\n",
    "describe_city(\"Port Louis\")\n",
    "\n",
    "describe_city(\"Port Louis\",\"France\")\n",
    "\n",
    "print(\"Finished!\")\n"
   ]
  },
  {
   "cell_type": "code",
   "execution_count": null,
   "id": "a4c26bd0",
   "metadata": {},
   "outputs": [
    {
     "name": "stdout",
     "output_type": "stream",
     "text": [
      "Generating random number...\n",
      "[1, 11]\n",
      "Too bad! We did not get the same number\n",
      "Finished!\n",
      "Please input a valid answer.\n",
      "Please input a valid answer.\n",
      "Please input a valid answer.\n",
      "Please input a valid answer.\n",
      "Enter a valid number!\n"
     ]
    }
   ],
   "source": [
    "from random import randint\n",
    "\n",
    "def random_number():\n",
    "    i = True\n",
    "    try:\n",
    "        while i == True:\n",
    "            YorN=str(input(\"To play, press 'y', if not, press 'n'.\"))\n",
    "            if YorN == 'n':\n",
    "                i = False\n",
    "            elif YorN == 'y':\n",
    "                number=int(input(\"Choose a number between 1 to 100.\"))\n",
    "                two_numbers=[]\n",
    "                if number < 1 or number > 100:\n",
    "                    print(\"That number is outside the range. Please choose a number between 1 to 100.\")\n",
    "                else:\n",
    "                    two_numbers.append(number)\n",
    "                    print(\"Generating random number...\")\n",
    "                    random_number=randint(1,100)\n",
    "                    two_numbers.append(random_number)\n",
    "                    if number == random_number:\n",
    "                        print(two_numbers)\n",
    "                        print(\"Oh wow! We got the same numnber!\")\n",
    "                        print(\"Finished!\")\n",
    "                    else:\n",
    "                        print(two_numbers)\n",
    "                        print(\"Too bad! We did not get the same number\")\n",
    "                        print(\"Finished!\")\n",
    "            else:\n",
    "                print(\"Please input a valid answer.\")\n",
    "    except TypeError:\n",
    "        print(\"Enter a valid number!\")\n",
    "    except ValueError:\n",
    "        print(\"Enter a valid number!\")\n",
    "\n",
    "random_number()"
   ]
  }
 ],
 "metadata": {
  "kernelspec": {
   "display_name": ".venv",
   "language": "python",
   "name": "python3"
  },
  "language_info": {
   "codemirror_mode": {
    "name": "ipython",
    "version": 3
   },
   "file_extension": ".py",
   "mimetype": "text/x-python",
   "name": "python",
   "nbconvert_exporter": "python",
   "pygments_lexer": "ipython3",
   "version": "3.13.5"
  }
 },
 "nbformat": 4,
 "nbformat_minor": 5
}
