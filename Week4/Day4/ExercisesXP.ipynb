{
 "cells": [
  {
   "cell_type": "code",
   "execution_count": 40,
   "id": "bba20d25",
   "metadata": {},
   "outputs": [
    {
     "name": "stdout",
     "output_type": "stream",
     "text": [
      "The temperature right now is 39.2 degrees Celsius.\n",
      "So hot! Let's get some ice cream\n"
     ]
    }
   ],
   "source": [
    "import random \n",
    "\n",
    "def get_random_temp(season):\n",
    "    if season == \"winter\":\n",
    "        random_temp = random.randrange(-100,160)/10.0\n",
    "    elif season == \"autumn\" or season == \"spring\":\n",
    "        random_temp = random.randrange(160,320)/10.0\n",
    "    elif season == \"summer\":\n",
    "        random_temp = random.randrange(240,400)/10.0\n",
    "    return random_temp\n",
    "\n",
    "def main():\n",
    "    month=int(input(\"Please choose a number to represent a month of the year (1 = January, 12 = December)\"))\n",
    "    if month==11 or month==12 or month==1:\n",
    "        season=\"winter\"\n",
    "    elif month==2 or month==3 or month==4:\n",
    "        season=\"spring\"\n",
    "    elif month==5 or month==6 or month==7:\n",
    "        season=\"summer\"\n",
    "    elif month==8 or month==9 or month==10:\n",
    "        season=\"autumn\"\n",
    "\n",
    "    temp=get_random_temp(season)\n",
    "\n",
    "    print(\"The temperature right now is\",temp,\"degrees Celsius.\")\n",
    "    \n",
    "    if temp<0:\n",
    "        print(\"Brrr, that's freezing! Wear some extra layers today\")\n",
    "    elif temp>=0 and temp<16:\n",
    "        print(\"Quite chilly! Don't forget your coat\")\n",
    "    elif temp>=16 and temp<=23:\n",
    "        print(\"Nice weather to do some gardening\")\n",
    "    elif temp>=24 and temp<32:\n",
    "        print(\"Nice weather for a swim\")\n",
    "    elif temp>=32 and temp<40:\n",
    "        print(\"So hot! Let's get some ice cream\")\n",
    "\n",
    "main()\n"
   ]
  }
 ],
 "metadata": {
  "kernelspec": {
   "display_name": ".venv",
   "language": "python",
   "name": "python3"
  },
  "language_info": {
   "codemirror_mode": {
    "name": "ipython",
    "version": 3
   },
   "file_extension": ".py",
   "mimetype": "text/x-python",
   "name": "python",
   "nbconvert_exporter": "python",
   "pygments_lexer": "ipython3",
   "version": "3.13.5"
  }
 },
 "nbformat": 4,
 "nbformat_minor": 5
}
