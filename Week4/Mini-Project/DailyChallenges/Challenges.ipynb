{
 "cells": [
  {
   "cell_type": "code",
   "execution_count": 4,
   "id": "1e8e44fe",
   "metadata": {},
   "outputs": [
    {
     "name": "stdout",
     "output_type": "stream",
     "text": [
      "['super', 'duper', 'man']\n",
      "['duper', 'man', 'super']\n"
     ]
    }
   ],
   "source": [
    "words=input(\"List of words to be sorted in alphabetical order, separated by commas(,): \")\n",
    "\n",
    "def sorting():\n",
    "    wordlist=words.split(\",\")\n",
    "    print(wordlist)\n",
    "    sortedwordlist=sorted(wordlist)\n",
    "    print(sortedwordlist)\n",
    "\n",
    "sorting()"
   ]
  }
 ],
 "metadata": {
  "kernelspec": {
   "display_name": "Python 3",
   "language": "python",
   "name": "python3"
  },
  "language_info": {
   "codemirror_mode": {
    "name": "ipython",
    "version": 3
   },
   "file_extension": ".py",
   "mimetype": "text/x-python",
   "name": "python",
   "nbconvert_exporter": "python",
   "pygments_lexer": "ipython3",
   "version": "3.9.6"
  }
 },
 "nbformat": 4,
 "nbformat_minor": 5
}
