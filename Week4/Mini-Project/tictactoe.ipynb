{
 "cells": [
  {
   "cell_type": "code",
   "execution_count": null,
   "id": "f67ba216",
   "metadata": {},
   "outputs": [],
   "source": [
    "board=[]\n",
    "board-size=3"
   ]
  },
  {
   "cell_type": "code",
   "execution_count": null,
   "id": "0c3acbb1",
   "metadata": {},
   "outputs": [],
   "source": [
    "def initialise_board(board):\n",
    "    for i in range(3):\n",
    "        board.append(['']*size)\n",
    "                     "
   ]
  },
  {
   "cell_type": "code",
   "execution_count": null,
   "id": "9440fef2",
   "metadata": {},
   "outputs": [],
   "source": [
    "def display_board(board)\n",
    "    board_vx=np.array(board)\n",
    "    print(board_vx)"
   ]
  },
  {
   "cell_type": "code",
   "execution_count": 10,
   "id": "d7ccd891",
   "metadata": {},
   "outputs": [
    {
     "name": "stdout",
     "output_type": "stream",
     "text": [
      "[[' ', '1', '2', '3'], ['1', ' ', ' ', ' '], ['2', ' ', ' ', ' '], ['3', ' ', ' ', ' ']]\n",
      "[' ', '1', '2', '3']\n",
      "['1', ' ', ' ', ' ']\n",
      "['2', ' ', ' ', ' ']\n",
      "['3', ' ', ' ', ' ']\n"
     ]
    }
   ],
   "source": [
    "numbers=[[' ','1','2','3'],['1',' ',' ',' '],['2',' ',' ',' '],['3',' ',' ',' ']]\n",
    "print(numbers)\n",
    "\n",
    "for row in numbers:\n",
    "    print(row)\n"
   ]
  },
  {
   "cell_type": "code",
   "execution_count": null,
   "id": "bd506787",
   "metadata": {},
   "outputs": [],
   "source": [
    "def player_input(player):\n",
    "    valid=False\n",
    "\n",
    "    row_num=None\n",
    "    col-num=None\n",
    "\n",
    "    while not valid:\n",
    "        try:\n",
    "\n",
    "        except:\n",
    "            print(\"Invalid input. Please enter a valid column and row number between 1 and 3.\")\n",
    "        "
   ]
  }
 ],
 "metadata": {
  "kernelspec": {
   "display_name": "Python 3",
   "language": "python",
   "name": "python3"
  },
  "language_info": {
   "codemirror_mode": {
    "name": "ipython",
    "version": 3
   },
   "file_extension": ".py",
   "mimetype": "text/x-python",
   "name": "python",
   "nbconvert_exporter": "python",
   "pygments_lexer": "ipython3",
   "version": "3.9.6"
  }
 },
 "nbformat": 4,
 "nbformat_minor": 5
}
