{
 "cells": [
  {
   "cell_type": "code",
   "execution_count": null,
   "id": "0076b499",
   "metadata": {},
   "outputs": [],
   "source": []
  },
  {
   "cell_type": "code",
   "execution_count": 3,
   "id": "019d5827",
   "metadata": {},
   "outputs": [
    {
     "name": "stdout",
     "output_type": "stream",
     "text": [
      "Benjy is just walking around\n",
      "Char is just walking around\n",
      "Si is just walking around\n"
     ]
    }
   ],
   "source": [
    "class Pets():\n",
    "    def __init__(self, animals):\n",
    "        self.animals = animals\n",
    "\n",
    "    def walk(self):\n",
    "        for animal in self.animals:\n",
    "            print(animal.walk())\n",
    "\n",
    "class Cat():\n",
    "    is_lazy = True\n",
    "\n",
    "    def __init__(self, name, age):\n",
    "        self.name = name\n",
    "        self.age = age\n",
    "\n",
    "    def walk(self):\n",
    "        return f'{self.name} is just walking around'\n",
    "\n",
    "class Bengal(Cat):\n",
    "    def sing(self, sounds):\n",
    "        return f'{sounds}'\n",
    "\n",
    "class Chartreux(Cat):\n",
    "    def sing(self, sounds):\n",
    "        return f'{sounds}'\n",
    "    \n",
    "class Siamese(Cat):\n",
    "    def sing(self,sounds):\n",
    "        return f'{sounds}'\n",
    "        \n",
    "bengal_obj=Bengal(\"Benjy\",1)\n",
    "chartreux_obj=Chartreux(\"Char\",2)\n",
    "siamese_obj=Siamese(\"Si\",3)\n",
    "all_cats=[bengal_obj,chartreux_obj,siamese_obj]\n",
    "\n",
    "sara_pets=Pets(all_cats)\n",
    "sara_pets.walk()\n",
    "\n"
   ]
  },
  {
   "cell_type": "code",
   "execution_count": 61,
   "id": "546922e7",
   "metadata": {},
   "outputs": [
    {
     "name": "stdout",
     "output_type": "stream",
     "text": [
      "Snoopy is barking.\n",
      "100.0\n",
      "Scooby wins!\n",
      "None\n"
     ]
    }
   ],
   "source": [
    "class Dog:\n",
    "    def __init__(self, name, age, weight):\n",
    "        self.name=name\n",
    "        self.age=age\n",
    "        self.weight=weight\n",
    "\n",
    "    def bark(self):\n",
    "        return f'{self.name} is barking.'\n",
    "\n",
    "    def run_speed(self):\n",
    "        self.speed=self.weight / self.age * 10\n",
    "        return self.speed\n",
    "\n",
    "    def fight(self, other_dog):\n",
    "        fight_stats1=self.run_speed() * self.weight\n",
    "        fight_stats2=other_dog.run_speed() * other_dog.weight\n",
    "    \n",
    "        if fight_stats1 > fight_stats2:\n",
    "            print (f\"{self.name} wins!\")\n",
    "        else:\n",
    "            print (f\"{other_dog.name} wins!\")\n",
    "\n",
    "dog1=Dog(\"Snoopy\",1,10)\n",
    "dog2=Dog(\"Scooby\",2,20)\n",
    "dog3=Dog(\"Marmaduke\",3,30)\n",
    "\n",
    "# Step 3: Test dog methods\n",
    "print(dog1.bark())\n",
    "print(dog2.run_speed())\n",
    "print(dog1.fight(dog2))"
   ]
  }
 ],
 "metadata": {
  "kernelspec": {
   "display_name": "Python 3",
   "language": "python",
   "name": "python3"
  },
  "language_info": {
   "codemirror_mode": {
    "name": "ipython",
    "version": 3
   },
   "file_extension": ".py",
   "mimetype": "text/x-python",
   "name": "python",
   "nbconvert_exporter": "python",
   "pygments_lexer": "ipython3",
   "version": "3.9.6"
  }
 },
 "nbformat": 4,
 "nbformat_minor": 5
}
