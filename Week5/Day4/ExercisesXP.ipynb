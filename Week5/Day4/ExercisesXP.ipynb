{
 "cells": [
  {
   "cell_type": "code",
   "execution_count": 3,
   "id": "019d5827",
   "metadata": {},
   "outputs": [
    {
     "name": "stdout",
     "output_type": "stream",
     "text": [
      "Benjy is just walking around\n",
      "Char is just walking around\n",
      "Si is just walking around\n"
     ]
    }
   ],
   "source": [
    "class Pets():\n",
    "    def __init__(self, animals):\n",
    "        self.animals = animals\n",
    "\n",
    "    def walk(self):\n",
    "        for animal in self.animals:\n",
    "            print(animal.walk())\n",
    "\n",
    "class Cat():\n",
    "    is_lazy = True\n",
    "\n",
    "    def __init__(self, name, age):\n",
    "        self.name = name\n",
    "        self.age = age\n",
    "\n",
    "    def walk(self):\n",
    "        return f'{self.name} is just walking around'\n",
    "\n",
    "class Bengal(Cat):\n",
    "    def sing(self, sounds):\n",
    "        return f'{sounds}'\n",
    "\n",
    "class Chartreux(Cat):\n",
    "    def sing(self, sounds):\n",
    "        return f'{sounds}'\n",
    "    \n",
    "class Siamese(Cat):\n",
    "    def sing(self,sounds):\n",
    "        return f'{sounds}'\n",
    "        \n",
    "bengal_obj=Bengal(\"Benjy\",1)\n",
    "chartreux_obj=Chartreux(\"Char\",2)\n",
    "siamese_obj=Siamese(\"Si\",3)\n",
    "all_cats=[bengal_obj,chartreux_obj,siamese_obj]\n",
    "\n",
    "sara_pets=Pets(all_cats)\n",
    "sara_pets.walk()\n",
    "\n"
   ]
  },
  {
   "cell_type": "code",
   "execution_count": 20,
   "id": "546922e7",
   "metadata": {},
   "outputs": [
    {
     "name": "stdout",
     "output_type": "stream",
     "text": [
      "Snoopy is barking.\n",
      "100.0\n",
      "Scooby wins!\n",
      "None\n"
     ]
    }
   ],
   "source": [
    "class Dog():\n",
    "    def __init__(self, name, age, weight):\n",
    "        self.name=name\n",
    "        self.age=age\n",
    "        self.weight=weight\n",
    "\n",
    "    def bark(self):\n",
    "        return f'{self.name} is barking.'\n",
    "\n",
    "    def run_speed(self):\n",
    "        self.speed=self.weight / self.age * 10\n",
    "        return self.speed\n",
    "\n",
    "    def fight(self, other_dog):\n",
    "        fight_stats1=self.run_speed() * self.weight\n",
    "        fight_stats2=other_dog.run_speed() * other_dog.weight\n",
    "    \n",
    "        if fight_stats1 > fight_stats2:\n",
    "            print (f\"{self.name} wins!\")\n",
    "        else:\n",
    "            print (f\"{other_dog.name} wins!\")\n",
    "\n",
    "dog1=Dog(\"Snoopy\",1,10)\n",
    "dog2=Dog(\"Scooby\",2,20)\n",
    "dog3=Dog(\"Marmaduke\",3,30)\n",
    "\n",
    "# Step 3: Test dog methods\n",
    "print(dog1.bark())\n",
    "print(dog2.run_speed())\n",
    "print(dog1.fight(dog2))"
   ]
  },
  {
   "cell_type": "code",
   "execution_count": 21,
   "id": "201a87ae",
   "metadata": {},
   "outputs": [
    {
     "name": "stdout",
     "output_type": "stream",
     "text": [
      "Fido is barking.\n",
      "Fido, Buddy, Max all play together\n",
      "Fido shakes your hand\n"
     ]
    }
   ],
   "source": [
    "import random\n",
    "\n",
    "class Dog():\n",
    "    def __init__(self, name, age, weight):\n",
    "        self.name=name\n",
    "        self.age=age\n",
    "        self.weight=weight\n",
    "\n",
    "    def bark(self):\n",
    "        return f'{self.name} is barking.'\n",
    "\n",
    "    def run_speed(self):\n",
    "        self.speed=self.weight / self.age * 10\n",
    "        return self.speed\n",
    "\n",
    "    def fight(self, other_dog):\n",
    "        fight_stats1=self.run_speed() * self.weight\n",
    "        fight_stats2=other_dog.run_speed() * other_dog.weight\n",
    "    \n",
    "        if fight_stats1 > fight_stats2:\n",
    "            print (f\"{self.name} wins!\")\n",
    "        else:\n",
    "            print (f\"{other_dog.name} wins!\")\n",
    "\n",
    "class Petdog(Dog):\n",
    "    def __init__(self,name,age,weight):\n",
    "        super().__init__(name,age,weight)\n",
    "        self.trained = False\n",
    "\n",
    "    def train(self):\n",
    "        print(self.bark())\n",
    "        self.trained = True\n",
    "\n",
    "    def play(self, *args):\n",
    "        print(f\"{self.name}, {args[0]}, {args[1]} all play together\") # need to find a way to call each list element and insert it into text\n",
    "\n",
    "    def do_a_trick(self):\n",
    "        if self.trained:\n",
    "            tricks = [\"does a barrel roll\", \"stands on his back legs\", \"shakes your hand\", \"plays dead\"]\n",
    "            print(f\"{self.name} {random.choice(tricks)}\")\n",
    "\n",
    "# Test Petdog methods\n",
    "my_dog = Petdog(\"Fido\", 2, 10)\n",
    "my_dog.train()\n",
    "my_dog.play(\"Buddy\", \"Max\")\n",
    "my_dog.do_a_trick()"
   ]
  },
  {
   "cell_type": "code",
   "execution_count": null,
   "id": "c6dcf17d",
   "metadata": {},
   "outputs": [
    {
     "name": "stdout",
     "output_type": "stream",
     "text": [
      "Shaun\n",
      "18\n",
      "Rimos\n",
      "Jared\n",
      "16\n",
      "Rimos\n",
      "You are over 18, your parents Jane and John accept that you will go out with your friends\n",
      "Sorry, you are not allowed to go out with your friends.\n"
     ]
    },
    {
     "data": {
      "text/plain": [
       "'Family = Rimos, Members = [first_name = Shaun, age = 18, first_name = Jared, age = 16]'"
      ]
     },
     "execution_count": 20,
     "metadata": {},
     "output_type": "execute_result"
    }
   ],
   "source": [
    "class Person():\n",
    "    def __init__(self,first_name,age,last_name=str()):\n",
    "        self.first_name=first_name\n",
    "        self.age=age\n",
    "        self.last_name=last_name\n",
    "\n",
    "    def is_18(self):\n",
    "        if self.age >= 18:\n",
    "            return True\n",
    "        else:\n",
    "            return False\n",
    "    \n",
    "    def __repr__(self):\n",
    "        return f\"first_name = {self.first_name}, age = {self.age}\"\n",
    "        \n",
    "class Family():\n",
    "    def __init__(self,last_name):\n",
    "        self.last_name=last_name\n",
    "        self.members=[]\n",
    "\n",
    "    def born(self,first_name,age):\n",
    "        newcomer=Person(first_name,age,self.last_name)\n",
    "        print(newcomer.first_name)\n",
    "        print(newcomer.age)\n",
    "        print(newcomer.last_name)\n",
    "        self.members.append(newcomer)\n",
    "        return self.members\n",
    "\n",
    "    def check_majority(self,first_name):\n",
    "        for person in self.members:\n",
    "            if person.first_name == first_name:\n",
    "                if person.is_18():\n",
    "                    print(\"You are over 18, your parents Jane and John accept that you will go out with your friends\")\n",
    "                else:  \n",
    "                    print(\"Sorry, you are not allowed to go out with your friends.\")\n",
    "                return\n",
    "\n",
    "    def family_presentation(self):\n",
    "        return f\"Family = {self.last_name}, Members = {self.members}\"\n",
    "\n",
    "rimos_family=Family(\"Rimos\")\n",
    "rimos_family.born(\"Shaun\",18)\n",
    "rimos_family.born(\"Jared\",16)\n",
    "rimos_family.check_majority(\"Shaun\")\n",
    "rimos_family.check_majority(\"Jared\")\n",
    "rimos_family.family_presentation()"
   ]
  }
 ],
 "metadata": {
  "kernelspec": {
   "display_name": "Python 3",
   "language": "python",
   "name": "python3"
  },
  "language_info": {
   "codemirror_mode": {
    "name": "ipython",
    "version": 3
   },
   "file_extension": ".py",
   "mimetype": "text/x-python",
   "name": "python",
   "nbconvert_exporter": "python",
   "pygments_lexer": "ipython3",
   "version": "3.9.6"
  }
 },
 "nbformat": 4,
 "nbformat_minor": 5
}
