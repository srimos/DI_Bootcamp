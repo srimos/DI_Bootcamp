{
 "cells": [
  {
   "cell_type": "code",
   "execution_count": 3,
   "id": "019d5827",
   "metadata": {},
   "outputs": [
    {
     "name": "stdout",
     "output_type": "stream",
     "text": [
      "Benjy is just walking around\n",
      "Char is just walking around\n",
      "Si is just walking around\n"
     ]
    }
   ],
   "source": [
    "class Pets():\n",
    "    def __init__(self, animals):\n",
    "        self.animals = animals\n",
    "\n",
    "    def walk(self):\n",
    "        for animal in self.animals:\n",
    "            print(animal.walk())\n",
    "\n",
    "class Cat():\n",
    "    is_lazy = True\n",
    "\n",
    "    def __init__(self, name, age):\n",
    "        self.name = name\n",
    "        self.age = age\n",
    "\n",
    "    def walk(self):\n",
    "        return f'{self.name} is just walking around'\n",
    "\n",
    "class Bengal(Cat):\n",
    "    def sing(self, sounds):\n",
    "        return f'{sounds}'\n",
    "\n",
    "class Chartreux(Cat):\n",
    "    def sing(self, sounds):\n",
    "        return f'{sounds}'\n",
    "    \n",
    "class Siamese(Cat):\n",
    "    def sing(self,sounds):\n",
    "        return f'{sounds}'\n",
    "        \n",
    "bengal_obj=Bengal(\"Benjy\",1)\n",
    "chartreux_obj=Chartreux(\"Char\",2)\n",
    "siamese_obj=Siamese(\"Si\",3)\n",
    "all_cats=[bengal_obj,chartreux_obj,siamese_obj]\n",
    "\n",
    "sara_pets=Pets(all_cats)\n",
    "sara_pets.walk()\n",
    "\n"
   ]
  },
  {
   "cell_type": "code",
   "execution_count": 20,
   "id": "546922e7",
   "metadata": {},
   "outputs": [
    {
     "name": "stdout",
     "output_type": "stream",
     "text": [
      "Snoopy is barking.\n",
      "100.0\n",
      "Scooby wins!\n",
      "None\n"
     ]
    }
   ],
   "source": [
    "class Dog():\n",
    "    def __init__(self, name, age, weight):\n",
    "        self.name=name\n",
    "        self.age=age\n",
    "        self.weight=weight\n",
    "\n",
    "    def bark(self):\n",
    "        return f'{self.name} is barking.'\n",
    "\n",
    "    def run_speed(self):\n",
    "        self.speed=self.weight / self.age * 10\n",
    "        return self.speed\n",
    "\n",
    "    def fight(self, other_dog):\n",
    "        fight_stats1=self.run_speed() * self.weight\n",
    "        fight_stats2=other_dog.run_speed() * other_dog.weight\n",
    "    \n",
    "        if fight_stats1 > fight_stats2:\n",
    "            print (f\"{self.name} wins!\")\n",
    "        else:\n",
    "            print (f\"{other_dog.name} wins!\")\n",
    "\n",
    "dog1=Dog(\"Snoopy\",1,10)\n",
    "dog2=Dog(\"Scooby\",2,20)\n",
    "dog3=Dog(\"Marmaduke\",3,30)\n",
    "\n",
    "# Step 3: Test dog methods\n",
    "print(dog1.bark())\n",
    "print(dog2.run_speed())\n",
    "print(dog1.fight(dog2))"
   ]
  },
  {
   "cell_type": "code",
   "execution_count": 21,
   "id": "201a87ae",
   "metadata": {},
   "outputs": [
    {
     "name": "stdout",
     "output_type": "stream",
     "text": [
      "Fido is barking.\n",
      "Fido, Buddy, Max all play together\n",
      "Fido shakes your hand\n"
     ]
    }
   ],
   "source": [
    "import random\n",
    "\n",
    "class Dog():\n",
    "    def __init__(self, name, age, weight):\n",
    "        self.name=name\n",
    "        self.age=age\n",
    "        self.weight=weight\n",
    "\n",
    "    def bark(self):\n",
    "        return f'{self.name} is barking.'\n",
    "\n",
    "    def run_speed(self):\n",
    "        self.speed=self.weight / self.age * 10\n",
    "        return self.speed\n",
    "\n",
    "    def fight(self, other_dog):\n",
    "        fight_stats1=self.run_speed() * self.weight\n",
    "        fight_stats2=other_dog.run_speed() * other_dog.weight\n",
    "    \n",
    "        if fight_stats1 > fight_stats2:\n",
    "            print (f\"{self.name} wins!\")\n",
    "        else:\n",
    "            print (f\"{other_dog.name} wins!\")\n",
    "\n",
    "class Petdog(Dog):\n",
    "    def __init__(self,name,age,weight):\n",
    "        super().__init__(name,age,weight)\n",
    "        self.trained = False\n",
    "\n",
    "    def train(self):\n",
    "        print(self.bark())\n",
    "        self.trained = True\n",
    "\n",
    "    def play(self, *args):\n",
    "        print(f\"{self.name}, {args[0]}, {args[1]} all play together\") # need to find a way to call each list element and insert it into text\n",
    "\n",
    "    def do_a_trick(self):\n",
    "        if self.trained:\n",
    "            tricks = [\"does a barrel roll\", \"stands on his back legs\", \"shakes your hand\", \"plays dead\"]\n",
    "            print(f\"{self.name} {random.choice(tricks)}\")\n",
    "\n",
    "# Test Petdog methods\n",
    "my_dog = Petdog(\"Fido\", 2, 10)\n",
    "my_dog.train()\n",
    "my_dog.play(\"Buddy\", \"Max\")\n",
    "my_dog.do_a_trick()"
   ]
  },
  {
   "cell_type": "code",
   "execution_count": 2,
   "id": "c6dcf17d",
   "metadata": {},
   "outputs": [
    {
     "ename": "AttributeError",
     "evalue": "'Family' object has no attribute 'born'",
     "output_type": "error",
     "traceback": [
      "\u001b[0;31m---------------------------------------------------------------------------\u001b[0m",
      "\u001b[0;31mAttributeError\u001b[0m                            Traceback (most recent call last)",
      "Cell \u001b[0;32mIn[2], line 42\u001b[0m\n\u001b[1;32m     39\u001b[0m     \u001b[38;5;66;03m# def family_presentation():\u001b[39;00m\n\u001b[1;32m     41\u001b[0m family1\u001b[38;5;241m=\u001b[39mFamily(\u001b[38;5;124m\"\u001b[39m\u001b[38;5;124mRimos\u001b[39m\u001b[38;5;124m\"\u001b[39m)\n\u001b[0;32m---> 42\u001b[0m \u001b[43mfamily1\u001b[49m\u001b[38;5;241;43m.\u001b[39;49m\u001b[43mborn\u001b[49m(\u001b[38;5;124m\"\u001b[39m\u001b[38;5;124mShaun\u001b[39m\u001b[38;5;124m\"\u001b[39m,\u001b[38;5;241m18\u001b[39m)\n\u001b[1;32m     43\u001b[0m family1\u001b[38;5;241m.\u001b[39mcheck_majority(\u001b[38;5;124m\"\u001b[39m\u001b[38;5;124mShaun\u001b[39m\u001b[38;5;124m\"\u001b[39m)\n",
      "\u001b[0;31mAttributeError\u001b[0m: 'Family' object has no attribute 'born'"
     ]
    }
   ],
   "source": [
    "class Person():\n",
    "    def __init__(self,first_name,age,last_name=str()):\n",
    "        self.first_name=first_name\n",
    "        self.age=age\n",
    "        self.last_name=str(last_name)\n",
    "\n",
    "    def is_18(self):\n",
    "        if self.age >= 18:\n",
    "            return True\n",
    "        else:\n",
    "            return False\n",
    "        \n",
    "class Family():\n",
    "    def __init__(self,last_name):\n",
    "        self.last_name=last_name\n",
    "        self.members=[]\n",
    "\n",
    "def born(self,first_name,age):\n",
    "    newcomer=Person(first_name,age,self.last_name)\n",
    "    print(newcomer.first_name)\n",
    "    print(newcomer.age)\n",
    "    print(newcomer.last_name)\n",
    "    self.members.append(newcomer.first_name)\n",
    "    print(self.members)\n",
    "\n",
    "def check_majority(self,first_name):\n",
    "    for fname in self.members:\n",
    "        if fname == first_name:\n",
    "            print(first_name)\n",
    "            self.is_18()\n",
    "            if True:\n",
    "                print(\"You are over 18, your parents Jane and John accept that you will go out with your friends\")\n",
    "            else:  \n",
    "                print(\"Sorry, you are not allowed to go out with your friends.\")\n",
    "        else:\n",
    "            pass\n",
    "  \n",
    "    \n",
    "    # def family_presentation():\n",
    "\n",
    "family1=Family(\"Rimos\")\n",
    "family1.born(\"Shaun\",18)\n",
    "family1.check_majority(\"Shaun\")\n",
    "\n",
    "\n"
   ]
  }
 ],
 "metadata": {
  "kernelspec": {
   "display_name": "Python 3",
   "language": "python",
   "name": "python3"
  },
  "language_info": {
   "codemirror_mode": {
    "name": "ipython",
    "version": 3
   },
   "file_extension": ".py",
   "mimetype": "text/x-python",
   "name": "python",
   "nbconvert_exporter": "python",
   "pygments_lexer": "ipython3",
   "version": "3.9.6"
  }
 },
 "nbformat": 4,
 "nbformat_minor": 5
}
