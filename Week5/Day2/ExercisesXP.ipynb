{
 "cells": [
  {
   "cell_type": "code",
   "execution_count": 16,
   "id": "7bda605f",
   "metadata": {},
   "outputs": [
    {
     "name": "stdout",
     "output_type": "stream",
     "text": [
      "The oldest cat is Doraemon who is 100 yers old.\n"
     ]
    }
   ],
   "source": [
    "class Cat:\n",
    "    def __init__(self,cat_name,cat_age):\n",
    "        self.name=cat_name\n",
    "        self.age=cat_age\n",
    "\n",
    "cat1=Cat(\"Doraemon\",100)\n",
    "cat2=Cat(\"Mew\",5)\n",
    "cat3=Cat(\"Mew2\",50) \n",
    "\n",
    "def find_oldest_cat(cat1,cat2,cat3):\n",
    "    oldest_cat=Cat(cat1.name,cat1.age)\n",
    "\n",
    "    if cat2.age > cat1.age:\n",
    "        oldest_cat=Cat(cat2.name,cat2.age)\n",
    "        pass\n",
    "\n",
    "    if cat3.age > cat1.age:\n",
    "        oldest_cat=Cat(cat3.name,cat3.age)\n",
    "        pass\n",
    "\n",
    "    print(f\"The oldest cat is {oldest_cat.name} who is {oldest_cat.age} yers old.\")\n",
    "\n",
    "find_oldest_cat(cat1,cat2,cat3)"
   ]
  },
  {
   "cell_type": "code",
   "execution_count": 23,
   "id": "90ea8b8b",
   "metadata": {},
   "outputs": [
    {
     "name": "stdout",
     "output_type": "stream",
     "text": [
      "Snoopy\n",
      "100 cm\n",
      "Buster\n",
      "150 cm\n",
      "Snoopy goes woof!\n",
      "Snoopy jumps 200cm high\n",
      "Buster goes woof!\n",
      "Buster jumps 300cm high\n",
      "Buster is taller than Snoopy\n"
     ]
    }
   ],
   "source": [
    "class Dog:\n",
    "    def __init__(self,dog_name,dog_height):\n",
    "        self.name=dog_name\n",
    "        self.height=dog_height\n",
    "\n",
    "    def bark(self):\n",
    "        print(f\"{self.name} goes woof!\")\n",
    "\n",
    "    def jump(self):\n",
    "        x=self.height*2\n",
    "        print(f\"{self.name} jumps {x}cm high\")\n",
    "\n",
    "davids_dog=Dog(\"Snoopy\",100)\n",
    "sarahs_dog=Dog(\"Buster\",150)\n",
    "\n",
    "print(davids_dog.name)\n",
    "print(davids_dog.height,\"cm\")\n",
    "print(sarahs_dog.name)\n",
    "print(sarahs_dog.height,\"cm\")\n",
    "\n",
    "davids_dog.bark()\n",
    "davids_dog.jump()\n",
    "sarahs_dog.bark()\n",
    "sarahs_dog.jump()\n",
    "\n",
    "def compare(davids_dog,sarahs_dog):\n",
    "    if davids_dog.height > sarahs_dog.height:\n",
    "        print(f\"{davids_dog.name} is taller than {sarahs_dog.name}\")\n",
    "    else:\n",
    "        print(f\"{sarahs_dog.name} is taller than {davids_dog.name}\")\n",
    "\n",
    "compare(davids_dog,sarahs_dog)"
   ]
  },
  {
   "cell_type": "code",
   "execution_count": 33,
   "id": "f0f1d720",
   "metadata": {},
   "outputs": [
    {
     "name": "stdout",
     "output_type": "stream",
     "text": [
      "There’s a lady who's sure\n",
      "all that glitters is gold\n",
      "and she’s buying a stairway to heaven\n"
     ]
    }
   ],
   "source": [
    "class Song:\n",
    "    def __init__(self,songlyrics):\n",
    "        self.lyrics=songlyrics\n",
    "\n",
    "stairway = Song([\"There’s a lady who's sure\", \"all that glitters is gold\", \"and she’s buying a stairway to heaven\"])\n",
    "                \n",
    "def sing_me_a_song(stairway):\n",
    "    song=stairway.lyrics\n",
    "    for line in song:\n",
    "        print(line)\n",
    "                \n",
    "sing_me_a_song(stairway)"
   ]
  },
  {
   "cell_type": "code",
   "execution_count": 13,
   "id": "cc97953d",
   "metadata": {},
   "outputs": [
    {
     "name": "stdout",
     "output_type": "stream",
     "text": [
      "['Giraffe', 'Bear', 'Baboon', 'Cat', 'Cougar', 'Lion', 'Zebra']\n",
      "['Giraffe', 'Baboon', 'Cat', 'Cougar', 'Lion', 'Zebra']\n"
     ]
    },
    {
     "data": {
      "text/plain": [
       "{'B': ['Baboon'],\n",
       " 'C': ['Cat', 'Cougar'],\n",
       " 'G': ['Giraffe'],\n",
       " 'L': ['Lion'],\n",
       " 'Z': ['Zebra']}"
      ]
     },
     "execution_count": 13,
     "metadata": {},
     "output_type": "execute_result"
    }
   ],
   "source": [
    "class Zoo:\n",
    "    def __init__(self,zoo_name):\n",
    "        self.name=zoo_name\n",
    "        \n",
    "    def add_animal(self,new_animal):\n",
    "        duplicate=False\n",
    "        for check_each_animal in animals:\n",
    "            if check_each_animal == new_animal:\n",
    "                print(\"This animal is already in the list.\")\n",
    "                duplicate=True\n",
    "            else:\n",
    "                duplicate=False\n",
    "        if duplicate == False:\n",
    "            animals.append(new_animal)\n",
    "        else:\n",
    "            pass\n",
    "\n",
    "    def get_animals(self):\n",
    "        print(animals)\n",
    "\n",
    "    def sell_animal(self,animal_sold):\n",
    "        for matching_animal in animals:\n",
    "            if matching_animal == animal_sold:\n",
    "                animals.remove(animal_sold)\n",
    "            else:\n",
    "                pass\n",
    "\n",
    "    def sort_animals(self):\n",
    "        dic_animal={}\n",
    "        letters=[\"A\",\"B\",\"C\",\"D\",\"E\",\"F\",\"G\",\"H\",\"I\",\"J\",\"K\",\"L\",\"M\",\"N\",\"O\",\"P\",\"Q\",\"R\",\"S\",\"T\",\"U\",\"V\",\"W\",\"X\",\"Y\",\"Z\"]\n",
    "        for letter in letters:\n",
    "            animal_letter=[]\n",
    "            for sorted_animal in animals:\n",
    "                if sorted_animal[0] == letter:\n",
    "                    animal_letter.append(sorted_animal)\n",
    "                    dic_animal[letter]=animal_letter\n",
    "                else:\n",
    "                    pass\n",
    "        self.dic_animal=dic_animal\n",
    "        \n",
    "    def get_groups(self):\n",
    "        return self.dic_animal\n",
    "\n",
    "animals=[]\n",
    "ramat_gan_safari = Zoo(\"Ramat Gan Safari\")\n",
    "\n",
    "ramat_gan_safari.add_animal(\"Giraffe\")\n",
    "ramat_gan_safari.add_animal(\"Bear\")\n",
    "ramat_gan_safari.add_animal(\"Baboon\")\n",
    "ramat_gan_safari.add_animal(\"Cat\")\n",
    "ramat_gan_safari.add_animal(\"Cougar\")\n",
    "ramat_gan_safari.add_animal(\"Lion\")\n",
    "ramat_gan_safari.add_animal(\"Zebra\")\n",
    "ramat_gan_safari.get_animals()\n",
    "ramat_gan_safari.sell_animal(\"Bear\")\n",
    "ramat_gan_safari.get_animals()\n",
    "ramat_gan_safari.sort_animals()\n",
    "ramat_gan_safari.get_groups()"
   ]
  }
 ],
 "metadata": {
  "kernelspec": {
   "display_name": "Python 3",
   "language": "python",
   "name": "python3"
  },
  "language_info": {
   "codemirror_mode": {
    "name": "ipython",
    "version": 3
   },
   "file_extension": ".py",
   "mimetype": "text/x-python",
   "name": "python",
   "nbconvert_exporter": "python",
   "pygments_lexer": "ipython3",
   "version": "3.9.6"
  }
 },
 "nbformat": 4,
 "nbformat_minor": 5
}
