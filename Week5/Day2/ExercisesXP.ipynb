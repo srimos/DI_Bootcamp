{
 "cells": [
  {
   "cell_type": "code",
   "execution_count": 23,
   "id": "7bda605f",
   "metadata": {},
   "outputs": [
    {
     "ename": "AttributeError",
     "evalue": "'Cats' object has no attribute 'cat_name'",
     "output_type": "error",
     "traceback": [
      "\u001b[0;31m---------------------------------------------------------------------------\u001b[0m",
      "\u001b[0;31mAttributeError\u001b[0m                            Traceback (most recent call last)",
      "Cell \u001b[0;32mIn[23], line 10\u001b[0m\n\u001b[1;32m      7\u001b[0m cat2\u001b[38;5;241m=\u001b[39mCats(\u001b[38;5;124m\"\u001b[39m\u001b[38;5;124mMew\u001b[39m\u001b[38;5;124m\"\u001b[39m,\u001b[38;5;241m5\u001b[39m)\n\u001b[1;32m      8\u001b[0m cat3\u001b[38;5;241m=\u001b[39mCats(\u001b[38;5;124m\"\u001b[39m\u001b[38;5;124mMew2\u001b[39m\u001b[38;5;124m\"\u001b[39m,\u001b[38;5;241m50\u001b[39m) \n\u001b[0;32m---> 10\u001b[0m \u001b[38;5;28mprint\u001b[39m(\u001b[43mcat1\u001b[49m\u001b[38;5;241;43m.\u001b[39;49m\u001b[43mcat_name\u001b[49m)\n\u001b[1;32m     12\u001b[0m \u001b[38;5;28;01mdef\u001b[39;00m\u001b[38;5;250m \u001b[39m\u001b[38;5;21mfind_oldest_cat\u001b[39m(cat1,cat2,cat3):\n\u001b[1;32m     14\u001b[0m     \u001b[38;5;28;01mif\u001b[39;00m cat2\u001b[38;5;241m.\u001b[39mcat_age \u001b[38;5;241m>\u001b[39m cat1\u001b[38;5;241m.\u001b[39mcat_age:\n",
      "\u001b[0;31mAttributeError\u001b[0m: 'Cats' object has no attribute 'cat_name'"
     ]
    }
   ],
   "source": [
    "class Cats:\n",
    "    def __init__(self,cat_name,cat_age):\n",
    "        self.name=cat_name\n",
    "        self.age=cat_age\n",
    "\n",
    "cat1=Cats(\"Doraemon\",100)\n",
    "cat2=Cats(\"Mew\",5)\n",
    "cat3=Cats(\"Mew2\",50) \n",
    "\n",
    "print(cat1.cat_name)\n",
    "\n",
    "def find_oldest_cat(cat1,cat2,cat3):\n",
    "  \n",
    "    if cat2.cat_age > cat1.cat_age:\n",
    "        print('yes')\n",
    "    elif cat3.cat_age > cat1.cat_age:\n",
    "        print('yes')\n",
    "    else:\n",
    "        pass\n",
    "\n",
    "\n",
    "find_oldest_cat(cat1,cat2,cat3)\n",
    "print(cat_age_max)\n",
    "# find_oldest_cat(cat1,cat2,cat3)\n",
    "\n",
    "# print(f'The oldest cat is {cat_name}, and is {cat_age} years old.')\n",
    "\n"
   ]
  }
 ],
 "metadata": {
  "kernelspec": {
   "display_name": "Python 3",
   "language": "python",
   "name": "python3"
  },
  "language_info": {
   "codemirror_mode": {
    "name": "ipython",
    "version": 3
   },
   "file_extension": ".py",
   "mimetype": "text/x-python",
   "name": "python",
   "nbconvert_exporter": "python",
   "pygments_lexer": "ipython3",
   "version": "3.9.6"
  }
 },
 "nbformat": 4,
 "nbformat_minor": 5
}
