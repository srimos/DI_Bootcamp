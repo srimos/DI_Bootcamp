{
 "cells": [
  {
   "cell_type": "code",
   "execution_count": 16,
   "id": "7bda605f",
   "metadata": {},
   "outputs": [
    {
     "name": "stdout",
     "output_type": "stream",
     "text": [
      "The oldest cat is Doraemon who is 100 yers old.\n"
     ]
    }
   ],
   "source": [
    "class Cat:\n",
    "    def __init__(self,cat_name,cat_age):\n",
    "        self.name=cat_name\n",
    "        self.age=cat_age\n",
    "\n",
    "cat1=Cat(\"Doraemon\",100)\n",
    "cat2=Cat(\"Mew\",5)\n",
    "cat3=Cat(\"Mew2\",50) \n",
    "\n",
    "def find_oldest_cat(cat1,cat2,cat3):\n",
    "    oldest_cat=Cat(cat1.name,cat1.age)\n",
    "\n",
    "    if cat2.age > cat1.age:\n",
    "        oldest_cat=Cat(cat2.name,cat2.age)\n",
    "        pass\n",
    "\n",
    "    if cat3.age > cat1.age:\n",
    "        oldest_cat=Cat(cat3.name,cat3.age)\n",
    "        pass\n",
    "\n",
    "    print(f\"The oldest cat is {oldest_cat.name} who is {oldest_cat.age} yers old.\")\n",
    "\n",
    "find_oldest_cat(cat1,cat2,cat3)"
   ]
  }
 ],
 "metadata": {
  "kernelspec": {
   "display_name": "Python 3",
   "language": "python",
   "name": "python3"
  },
  "language_info": {
   "codemirror_mode": {
    "name": "ipython",
    "version": 3
   },
   "file_extension": ".py",
   "mimetype": "text/x-python",
   "name": "python",
   "nbconvert_exporter": "python",
   "pygments_lexer": "ipython3",
   "version": "3.9.6"
  }
 },
 "nbformat": 4,
 "nbformat_minor": 5
}
