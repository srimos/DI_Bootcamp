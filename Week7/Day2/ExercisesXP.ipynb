{
 "cells": [
  {
   "cell_type": "code",
   "execution_count": null,
   "id": "3859ca28",
   "metadata": {},
   "outputs": [],
   "source": [
    "create table items(\n",
    "id varchar (3) primary key,\n",
    "name varchar (255),\n",
    "price float\n",
    ")\n",
    "\n",
    "create table customers(\n",
    "id varchar (3) primary key,\n",
    "first_name varchar (255),\n",
    "last_name varchar (255)\n",
    ")\n",
    "\n",
    "insert into items \n",
    "values('1','Small Desk',100),\n",
    "('2','Large Desk',300),\n",
    "('3','Fan',80)\n",
    "\n",
    "insert into customers\n",
    "values('1','Greg','Jones'),\n",
    "('2','Sandra','Jones'),\n",
    "('3','Scott','Scott'),\n",
    "('4','Trevor','Green'),\n",
    "('5','Melanie','Johnson')\n",
    "\n",
    "select * from items\n",
    "\n",
    "select * from items\n",
    "where price > 80\n",
    "\n",
    "select * from items\n",
    "where price < 300\n",
    "\n",
    "select * from customers\n",
    "where last_name = 'Smith'\n",
    "\n",
    "select * from customers\n",
    "where last_name = 'Jones'\n",
    "\n",
    "select * from customers\n",
    "where first_name != 'Scott'"
   ]
  }
 ],
 "metadata": {
  "language_info": {
   "name": "python"
  }
 },
 "nbformat": 4,
 "nbformat_minor": 5
}
