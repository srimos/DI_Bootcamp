{
 "cells": [
  {
   "cell_type": "code",
   "execution_count": 15,
   "id": "fd397268",
   "metadata": {},
   "outputs": [
    {
     "name": "stdout",
     "output_type": "stream",
     "text": [
      "This program generates a random sentence of a specified length from a word list.\n",
      "Input validated\n",
      "File read successfully\n",
      "BOUNS ALABASTERS AGRAPHA BWAZIS ABSOLUTIONS APOLITICAL CALORICITIES BINDS BRONCHI CODLING CATTALO BAROQUES ALLOWANCED ARANEIDS AULNAGERS CLIMB BOUNDLESS ALLOPATH AFTERBODY BIDDERS\n",
      "Finished!\n"
     ]
    }
   ],
   "source": [
    "from get_random_sentence import get_random_sentence\n",
    "from get_words_from_file import get_words_from_file\n",
    "from random import choice\n",
    "\n",
    "print(\"This program generates a random sentence of a specified length from a word list.\")\n",
    "\n",
    "while True:\n",
    "    try:\n",
    "        sentence_length=input(\"Please specify the number of words in your sentence (2-20): \")   \n",
    "        if 2 <= int(sentence_length) <= 20:\n",
    "            print(\"Input validated\")\n",
    "            break\n",
    "        else:\n",
    "            print(\"Please input an integer between 2 to 20\")\n",
    "    except ValueError:\n",
    "        print(\"Please input an integer! You know, like 1, 2, 3, etc...\")\n",
    "\n",
    "# Create a function named get_words_from_file that takes the file path as an argument.\n",
    "def get_words_from_file():\n",
    "    words = []\n",
    "# This script reads words from a file named \"words.txt\" and stores them in a list called 'words'.\n",
    "    try:\n",
    "        with open(\"words.txt\",'r') as reader:\n",
    "        # print(get_words_from_file.read())\n",
    "            for line in reader:\n",
    "                words.append(line.strip())\n",
    "            print(\"File read successfully\")\n",
    "    except FileNotFoundError:\n",
    "        print(\"File not found\")\n",
    "    return words\n",
    "\n",
    "def get_random_sentence(sentence_length):\n",
    "    random_word_list=[]\n",
    "    words=get_words_from_file()\n",
    "    for i in range(sentence_length):\n",
    "        random_word=choice(words)\n",
    "        random_word_list.append(random_word)\n",
    "    random_sentence=\" \".join(random_word_list)\n",
    "    return random_sentence\n",
    "\n",
    "print(get_random_sentence(int(sentence_length)))\n",
    "print(\"Finished!\")"
   ]
  },
  {
   "cell_type": "code",
   "execution_count": 15,
   "id": "ba5d313e",
   "metadata": {},
   "outputs": [
    {
     "name": "stdout",
     "output_type": "stream",
     "text": [
      "{'company': {'employee': {'name': 'emma', 'payable': {'salary': 7000, 'bonus': 800}}}}\n",
      "7000\n",
      "{'company': {'employee': {'name': 'emma', 'payable': {'salary': 7000, 'bonus': 800}, 'birthdate': '2000-01-01'}}}\n"
     ]
    }
   ],
   "source": [
    "# Import the json module.\n",
    "# Use json.loads() to parse the JSON string into a Python dictionary.\n",
    "import json\n",
    "\n",
    "sampleJson = '{\"company\":{\"employee\":{\"name\":\"emma\",\"payable\":{\"salary\":7000,\"bonus\":800}}}}'\n",
    "\n",
    "data=json.loads(sampleJson)\n",
    "\n",
    "print(data)\n",
    "\n",
    "# Access the “salary” key using nested dictionary access. Print the value of the “salary” key.\n",
    "print(data[\"company\"][\"employee\"][\"payable\"][\"salary\"])\n",
    "\n",
    "# Add a new key-value pair to the “employee” dictionary: \"birth_date\": \"YYYY-MM-DD\". Replace \"YYYY-MM-DD\" with an actual date.\n",
    "data[\"company\"][\"employee\"][\"birthdate\"]=\"2000-01-01\"\n",
    "print(data)\n",
    "\n",
    "json_file = \"index.json\"\n",
    "\n",
    "with open(json_file, 'w') as file_obj:\n",
    "    json.dump(data, file_obj, indent = 2)"
   ]
  }
 ],
 "metadata": {
  "kernelspec": {
   "display_name": ".venv",
   "language": "python",
   "name": "python3"
  },
  "language_info": {
   "codemirror_mode": {
    "name": "ipython",
    "version": 3
   },
   "file_extension": ".py",
   "mimetype": "text/x-python",
   "name": "python",
   "nbconvert_exporter": "python",
   "pygments_lexer": "ipython3",
   "version": "3.13.5"
  }
 },
 "nbformat": 4,
 "nbformat_minor": 5
}
