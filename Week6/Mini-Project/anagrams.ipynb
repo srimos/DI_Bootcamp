{
 "cells": [
  {
   "cell_type": "code",
   "execution_count": 12,
   "id": "6c8c6d4c",
   "metadata": {},
   "outputs": [
    {
     "data": {
      "text/plain": [
       "['mate', 'team', 'meat', 'tame', 'meta']"
      ]
     },
     "execution_count": 12,
     "metadata": {},
     "output_type": "execute_result"
    }
   ],
   "source": [
    "class AnagramChecker:\n",
    "\n",
    "    def __init__(self,word_list='sowpods.txt'):\n",
    "        with open(word_list, \"r\") as f:\n",
    "            self.words = set()\n",
    "            for line in f:\n",
    "                word=line.lower().strip()\n",
    "                self.words.add(word)\n",
    "    \n",
    "    def is_valid_word(self,word):\n",
    "        if not isinstance(word, str):\n",
    "            return False \n",
    "        return word.lower() in self.words\n",
    "\n",
    "    def get_anagrams(self,word):\n",
    "        letters=sorted(list(word))\n",
    "        anagrams=[]\n",
    "        for line in self.words:\n",
    "            letters2=sorted(list(line))\n",
    "            if letters == letters2:\n",
    "                anagrams.append(line)\n",
    "        return anagrams\n",
    "    \n",
    "    # def print_list(self):\n",
    "    #     print(self.words)\n",
    "\n",
    "anagram=AnagramChecker()\n",
    "# anagram.print_list()\n",
    "anagram.is_valid_word(\"meat\")\n",
    "anagram.get_anagrams(\"meat\")"
   ]
  }
 ],
 "metadata": {
  "kernelspec": {
   "display_name": ".venv",
   "language": "python",
   "name": "python3"
  },
  "language_info": {
   "codemirror_mode": {
    "name": "ipython",
    "version": 3
   },
   "file_extension": ".py",
   "mimetype": "text/x-python",
   "name": "python",
   "nbconvert_exporter": "python",
   "pygments_lexer": "ipython3",
   "version": "3.13.5"
  }
 },
 "nbformat": 4,
 "nbformat_minor": 5
}
