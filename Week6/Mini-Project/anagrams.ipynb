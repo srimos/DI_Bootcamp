{
 "cells": [
  {
   "cell_type": "code",
   "execution_count": null,
   "id": "6c8c6d4c",
   "metadata": {},
   "outputs": [
    {
     "data": {
      "text/plain": [
       "['mate', 'team', 'meat', 'tame', 'meta']"
      ]
     },
     "execution_count": 12,
     "metadata": {},
     "output_type": "execute_result"
    }
   ],
   "source": [
    "class AnagramChecker:\n",
    "\n",
    "    def __init__(self,word_list='sowpods.txt'):\n",
    "        with open(word_list, \"r\") as f:\n",
    "            self.words = set()\n",
    "            for line in f:\n",
    "                word=line.lower().strip()\n",
    "                self.words.add(word)\n",
    "    \n",
    "    def is_valid_word(self,word):\n",
    "        if not isinstance(word, str):\n",
    "            return False \n",
    "        print(\"This is a valid English word.\")\n",
    "        return word.lower() in self.words\n",
    "    \n",
    "\n",
    "    def get_anagrams(self,word):\n",
    "        letters=sorted(list(word))\n",
    "        anagrams=[]\n",
    "        for line in self.words:\n",
    "            letters2=sorted(list(line))\n",
    "            if letters == letters2:\n",
    "                anagrams.append(line)\n",
    "        return anagrams\n",
    "    \n",
    "    # def print_list(self):\n",
    "    #     print(self.words)\n",
    "\n",
    "anagram=AnagramChecker()\n",
    "# anagram.print_list()\n",
    "anagram.is_valid_word(\"meat\")\n",
    "anagram.get_anagrams(\"meat\")"
   ]
  },
  {
   "cell_type": "code",
   "execution_count": null,
   "id": "fb44946c",
   "metadata": {},
   "outputs": [
    {
     "name": "stdout",
     "output_type": "stream",
     "text": [
      "word\n"
     ]
    }
   ],
   "source": [
    "def anagram():\n",
    "    while True:\n",
    "        choice=input(\"Welcome the Anagram Checker. Would you like to input a word? (y/n)\")\n",
    "        if choice == 'n':\n",
    "            break\n",
    "        elif choice != 'y':\n",
    "            print(\"Please input 'y' or 'n'.\")\n",
    "            continue\n",
    "        while True:\n",
    "            word=input(\"Please input a word.\")\n",
    "            if ' ' in word[1:-1]:\n",
    "                print(\"Input only one word please\")\n",
    "                continue\n",
    "            elif word.isalpha()==False:\n",
    "                print(\"Only letters allowed please.\")\n",
    "                continue\n",
    "            word=word.lower().strip()\n",
    "            print(\"Your word:\",word)\n",
    "            break\n",
    "        break\n",
    "\n",
    "anagram()"
   ]
  },
  {
   "cell_type": "code",
   "execution_count": null,
   "id": "6002f0e8",
   "metadata": {},
   "outputs": [],
   "source": [
    "class AnagramChecker:\n",
    "\n",
    "    def __init__(self,word_list='sowpods.txt'):\n",
    "        with open(word_list, \"r\") as f:\n",
    "            self.words = set()\n",
    "            for line in f:\n",
    "                word=line.lower().strip()\n",
    "                self.words.add(word)\n",
    "    \n",
    "    def is_valid_word(self,word):\n",
    "        if not isinstance(word, str):\n",
    "            return False \n",
    "        print(\"This is a valid English word.\")\n",
    "        return word.lower() in self.words\n",
    "    \n",
    "\n",
    "    def get_anagrams(self,word):\n",
    "        letters=sorted(list(word))\n",
    "        anagrams=[]\n",
    "        for line in self.words:\n",
    "            letters2=sorted(list(line))\n",
    "            if letters == letters2:\n",
    "                anagrams.append(line)\n",
    "        return anagrams\n",
    "\n",
    "def anagram():\n",
    "    while True:\n",
    "        choice=input(\"Welcome the Anagram Checker. Would you like to input a word? (y/n)\")\n",
    "        if choice == 'n':\n",
    "            break\n",
    "        elif choice != 'y':\n",
    "            print(\"Please input 'y' or 'n'.\")\n",
    "            continue\n",
    "        while True:\n",
    "            word=input(\"Please input a word.\")\n",
    "            if ' ' in word[1:-1]:\n",
    "                print(\"Input only one word please\")\n",
    "                continue\n",
    "            elif word.isalpha()==False:\n",
    "                print(\"Only letters allowed please.\")\n",
    "                continue\n",
    "            word=word.lower().strip()\n",
    "            print(\"Your word:\",word)\n",
    "            anagram=AnagramChecker()\n",
    "            anagram.is_valid_word(word)\n",
    "            anagram.get_anagrams(word)\n",
    "            break\n",
    "        break\n",
    "\n",
    "anagram()"
   ]
  }
 ],
 "metadata": {
  "kernelspec": {
   "display_name": ".venv",
   "language": "python",
   "name": "python3"
  },
  "language_info": {
   "codemirror_mode": {
    "name": "ipython",
    "version": 3
   },
   "file_extension": ".py",
   "mimetype": "text/x-python",
   "name": "python",
   "nbconvert_exporter": "python",
   "pygments_lexer": "ipython3",
   "version": "3.13.5"
  }
 },
 "nbformat": 4,
 "nbformat_minor": 5
}
