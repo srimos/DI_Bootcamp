{
 "cells": [
  {
   "cell_type": "code",
   "execution_count": null,
   "id": "b0aa937f",
   "metadata": {},
   "outputs": [
    {
     "name": "stdout",
     "output_type": "stream",
     "text": [
      "15\n"
     ]
    }
   ],
   "source": [
    "class Currency:\n",
    "    def __init__(self, currency, amount):\n",
    "        self.currency = currency\n",
    "        self.amount = amount\n",
    "\n",
    "    def __str__(self):\n",
    "        str_amount=str(self.amount)\n",
    "        return f\"{str_amount} {self.currency}s\"\n",
    "\n",
    "    def __int__(self):\n",
    "        return int(self.amount)\n",
    "\n",
    "    def __repr__(self):\n",
    "        str_amount2=str(self.amount)\n",
    "        return f\"{str_amount2} {self.currency}s\"\n",
    "    \n",
    "    def __add__(self,other):\n",
    "        if type(other) == int:\n",
    "            return self.amount+other\n",
    "        else:\n",
    "            return self.amount+other.amount\n",
    "\n",
    "\n",
    "c1 = Currency('dollar', 5)\n",
    "c2 = Currency('dollar', 10)\n",
    "c3 = Currency('shekel', 1)\n",
    "c4 = Currency('shekel', 10)\n",
    "\n",
    "# str(c1)\n",
    "# int(c1)\n",
    "# repr(c1)\n",
    "# print(c1+5)\n",
    "# print(c1+c2)\n",
    "# print(c1)\n",
    "# c1+5\n",
    "# print(c1)\n",
    "# c1+=c2\n",
    "# print(c1)\n",
    "# # print(c1+c3)"
   ]
  }
 ],
 "metadata": {
  "kernelspec": {
   "display_name": "Python 3",
   "language": "python",
   "name": "python3"
  },
  "language_info": {
   "codemirror_mode": {
    "name": "ipython",
    "version": 3
   },
   "file_extension": ".py",
   "mimetype": "text/x-python",
   "name": "python",
   "nbconvert_exporter": "python",
   "pygments_lexer": "ipython3",
   "version": "3.9.6"
  }
 },
 "nbformat": 4,
 "nbformat_minor": 5
}
