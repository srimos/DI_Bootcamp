{
 "cells": [
  {
   "cell_type": "code",
   "execution_count": null,
   "id": "b0aa937f",
   "metadata": {},
   "outputs": [],
   "source": [
    "class Currency:\n",
    "    def __init__(self, currency, amount):\n",
    "        self.currency = currency\n",
    "        self.amount = amount"
   ]
  }
 ],
 "metadata": {
  "language_info": {
   "name": "python"
  }
 },
 "nbformat": 4,
 "nbformat_minor": 5
}
