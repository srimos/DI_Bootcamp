{
 "cells": [
  {
   "cell_type": "code",
   "execution_count": 102,
   "id": "b0aa937f",
   "metadata": {},
   "outputs": [
    {
     "name": "stdout",
     "output_type": "stream",
     "text": [
      "10\n",
      "15\n",
      "5 dollars\n",
      "10 dollars\n",
      "20 dollars\n"
     ]
    },
    {
     "ename": "TypeError",
     "evalue": "Cannot add between Currency type <dollar> and <shekel>",
     "output_type": "error",
     "traceback": [
      "\u001b[0;31m---------------------------------------------------------------------------\u001b[0m",
      "\u001b[0;31mTypeError\u001b[0m                                 Traceback (most recent call last)",
      "Cell \u001b[0;32mIn[102], line 49\u001b[0m\n\u001b[1;32m     47\u001b[0m c1\u001b[38;5;241m+\u001b[39m\u001b[38;5;241m=\u001b[39mc2\n\u001b[1;32m     48\u001b[0m \u001b[38;5;28mprint\u001b[39m(c1)\n\u001b[0;32m---> 49\u001b[0m \u001b[38;5;28mprint\u001b[39m(\u001b[43mc1\u001b[49m\u001b[38;5;241;43m+\u001b[39;49m\u001b[43mc3\u001b[49m)\n",
      "Cell \u001b[0;32mIn[102], line 20\u001b[0m, in \u001b[0;36mCurrency.__add__\u001b[0;34m(self, other)\u001b[0m\n\u001b[1;32m     18\u001b[0m \u001b[38;5;28;01melse\u001b[39;00m:\n\u001b[1;32m     19\u001b[0m     \u001b[38;5;28;01mif\u001b[39;00m \u001b[38;5;28mself\u001b[39m\u001b[38;5;241m.\u001b[39mcurrency \u001b[38;5;241m!=\u001b[39m other\u001b[38;5;241m.\u001b[39mcurrency:\n\u001b[0;32m---> 20\u001b[0m         \u001b[38;5;28;01mraise\u001b[39;00m \u001b[38;5;167;01mTypeError\u001b[39;00m(\u001b[38;5;124mf\u001b[39m\u001b[38;5;124m\"\u001b[39m\u001b[38;5;124mCannot add between Currency type <\u001b[39m\u001b[38;5;132;01m{\u001b[39;00m\u001b[38;5;28mself\u001b[39m\u001b[38;5;241m.\u001b[39mcurrency\u001b[38;5;132;01m}\u001b[39;00m\u001b[38;5;124m> and <\u001b[39m\u001b[38;5;132;01m{\u001b[39;00mother\u001b[38;5;241m.\u001b[39mcurrency\u001b[38;5;132;01m}\u001b[39;00m\u001b[38;5;124m>\u001b[39m\u001b[38;5;124m\"\u001b[39m)\n\u001b[1;32m     21\u001b[0m     \u001b[38;5;28;01mreturn\u001b[39;00m \u001b[38;5;28mself\u001b[39m\u001b[38;5;241m.\u001b[39mamount\u001b[38;5;241m+\u001b[39mother\u001b[38;5;241m.\u001b[39mamount\n",
      "\u001b[0;31mTypeError\u001b[0m: Cannot add between Currency type <dollar> and <shekel>"
     ]
    }
   ],
   "source": [
    "class Currency:\n",
    "    def __init__(self, currency, amount):\n",
    "        self.currency = currency\n",
    "        self.amount = amount\n",
    "\n",
    "    def __str__(self):\n",
    "        return f\"{self.amount} {self.currency}s\"\n",
    "\n",
    "    def __int__(self):\n",
    "        return int(self.amount)\n",
    "\n",
    "    def __repr__(self):\n",
    "        return f\"{self.amount} {self.currency}s\"\n",
    "    \n",
    "    def __add__(self,other):\n",
    "        if type(other) == int:\n",
    "            return self.amount+other\n",
    "        else:\n",
    "            if self.currency != other.currency:\n",
    "                raise TypeError(f\"Cannot add between Currency type <{self.currency}> and <{other.currency}>\")\n",
    "            return self.amount+other.amount\n",
    "        \n",
    "    def __iadd__(self,other):\n",
    "        if type(other) == int:\n",
    "            self.amount=self.amount+other\n",
    "            return Currency(self.currency,self.amount)\n",
    "        else:\n",
    "            self.amount=self.amount+other.amount\n",
    "            if self.currency != other.currency:\n",
    "                raise TypeError(f\"Cannot add between Currency type <{self.currency}> and <{other.currency}>\")\n",
    "            return Currency(self.currency,self.amount)\n",
    "\n",
    "\n",
    "c1 = Currency('dollar', 5)\n",
    "c2 = Currency('dollar', 10)\n",
    "c3 = Currency('shekel', 1)\n",
    "c4 = Currency('shekel', 10)\n",
    "\n",
    "str(c1)\n",
    "int(c1)\n",
    "repr(c1)\n",
    "print(c1+5)\n",
    "print(c1+c2)\n",
    "print(c1)\n",
    "c1+=5\n",
    "print(c1)\n",
    "c1+=c2\n",
    "print(c1)\n",
    "print(c1+c3)"
   ]
  },
  {
   "cell_type": "code",
   "execution_count": 104,
   "id": "031e207f",
   "metadata": {},
   "outputs": [
    {
     "name": "stdout",
     "output_type": "stream",
     "text": [
      "3\n"
     ]
    }
   ],
   "source": [
    "import func\n",
    "\n",
    "num1=1\n",
    "num2=2\n",
    "func.func(num1,num2)"
   ]
  },
  {
   "cell_type": "code",
   "execution_count": null,
   "id": "0260ba2d",
   "metadata": {},
   "outputs": [],
   "source": []
  }
 ],
 "metadata": {
  "kernelspec": {
   "display_name": "Python 3",
   "language": "python",
   "name": "python3"
  },
  "language_info": {
   "codemirror_mode": {
    "name": "ipython",
    "version": 3
   },
   "file_extension": ".py",
   "mimetype": "text/x-python",
   "name": "python",
   "nbconvert_exporter": "python",
   "pygments_lexer": "ipython3",
   "version": "3.9.6"
  }
 },
 "nbformat": 4,
 "nbformat_minor": 5
}
