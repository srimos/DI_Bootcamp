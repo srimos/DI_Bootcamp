{
 "cells": [
  {
   "cell_type": "code",
   "execution_count": 28,
   "id": "9676c328",
   "metadata": {},
   "outputs": [
    {
     "name": "stdout",
     "output_type": "stream",
     "text": [
      "I made your Tuna sandwich\n",
      "I made your Avocado sandwich\n",
      "I made your Egg sandwich\n",
      "I made your Chicken sandwich\n",
      "['Tuna', 'Avocado', 'Egg', 'Chicken']\n"
     ]
    }
   ],
   "source": [
    "sandwich_orders = [\"Tuna\", \"Pastrami\", \"Avocado\", \"Pastrami\", \"Egg\", \"Chicken\", \"Pastrami\"]\n",
    "\n",
    "for sandwich in sandwich_orders:\n",
    "    if sandwich == \"Pastrami\":\n",
    "        sandwich_orders.remove(\"Pastrami\")\n",
    "\n",
    "finished_sandwiches=[]\n",
    "i=0\n",
    "for sandwich in sandwich_orders:\n",
    "    finished_sandwiches.append(sandwich)\n",
    "    print(\"I made your\",sandwich,\"sandwich\")\n",
    "print(finished_sandwiches)"
   ]
  }
 ],
 "metadata": {
  "kernelspec": {
   "display_name": ".venv",
   "language": "python",
   "name": "python3"
  },
  "language_info": {
   "codemirror_mode": {
    "name": "ipython",
    "version": 3
   },
   "file_extension": ".py",
   "mimetype": "text/x-python",
   "name": "python",
   "nbconvert_exporter": "python",
   "pygments_lexer": "ipython3",
   "version": "3.13.5"
  }
 },
 "nbformat": 4,
 "nbformat_minor": 5
}
