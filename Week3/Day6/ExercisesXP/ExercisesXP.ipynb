{
 "cells": [
  {
   "cell_type": "code",
   "execution_count": 39,
   "id": "39e089af",
   "metadata": {},
   "outputs": [
    {
     "name": "stdout",
     "output_type": "stream",
     "text": [
      "Ticket price for rick : 15\n",
      "Ticket price for beth : 15\n",
      "Ticket price for morty : 10\n",
      "Ticket price for summer : 10\n",
      "Total cost: 50\n",
      "Finished!\n"
     ]
    }
   ],
   "source": [
    "family={\n",
    "    \"rick\":43,\n",
    "    'beth':13,\n",
    "    'morty':5,\n",
    "    'summer':8\n",
    "}\n",
    "\n",
    "cost={}\n",
    "total=0\n",
    "\n",
    "for x,y in family.items():\n",
    "    if y<3:\n",
    "        cost[x]=0\n",
    "    elif y>=3 and y<12:\n",
    "        cost[x]=10\n",
    "    elif y>=12:\n",
    "        cost[x]=15\n",
    "    print(\"Ticket price for\",x,\":\",cost[x])\n",
    "    total=total+cost[x]\n",
    "\n",
    "print(\"Total cost:\",total)\n",
    "\n",
    "print('Finished!')"
   ]
  }
 ],
 "metadata": {
  "kernelspec": {
   "display_name": ".venv",
   "language": "python",
   "name": "python3"
  },
  "language_info": {
   "codemirror_mode": {
    "name": "ipython",
    "version": 3
   },
   "file_extension": ".py",
   "mimetype": "text/x-python",
   "name": "python",
   "nbconvert_exporter": "python",
   "pygments_lexer": "ipython3",
   "version": "3.13.5"
  }
 },
 "nbformat": 4,
 "nbformat_minor": 5
}
