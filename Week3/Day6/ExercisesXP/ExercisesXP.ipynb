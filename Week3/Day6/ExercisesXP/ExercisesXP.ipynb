{
 "cells": [
  {
   "cell_type": "code",
   "execution_count": 32,
   "id": "39e089af",
   "metadata": {},
   "outputs": [
    {
     "name": "stdout",
     "output_type": "stream",
     "text": [
      "{'Mickey': 0, 'Minnie': 1, 'Donald': 2, 'Ariel': 3, 'Pluto': 4}\n",
      "{0: 'Mickey', 1: 'Minnie', 2: 'Donald', 3: 'Ariel', 4: 'Pluto'}\n",
      "{'Ariel': 0, 'Donald': 1, 'Mickey': 2, 'Minnie': 3, 'Pluto': 4}\n"
     ]
    }
   ],
   "source": [
    "users = [\"Mickey\", \"Minnie\", \"Donald\", \"Ariel\", \"Pluto\"]\n",
    "\n",
    "user_dict1={}\n",
    "for i, user in enumerate(users):\n",
    "    user_dict1[user]=i\n",
    "print(user_dict1)\n",
    "\n",
    "user_dict2={}\n",
    "for i, user in enumerate(users):\n",
    "    user_dict2[i]=user\n",
    "print(user_dict2)\n",
    "\n",
    "user_sorted=users.copy()\n",
    "user_sorted.sort()\n",
    "user_dict3={}\n",
    "for i, user in enumerate(user_sorted):\n",
    "    user_dict3[user]=i\n",
    "print(user_dict3)"
   ]
  }
 ],
 "metadata": {
  "kernelspec": {
   "display_name": ".venv",
   "language": "python",
   "name": "python3"
  },
  "language_info": {
   "codemirror_mode": {
    "name": "ipython",
    "version": 3
   },
   "file_extension": ".py",
   "mimetype": "text/x-python",
   "name": "python",
   "nbconvert_exporter": "python",
   "pygments_lexer": "ipython3",
   "version": "3.13.5"
  }
 },
 "nbformat": 4,
 "nbformat_minor": 5
}
