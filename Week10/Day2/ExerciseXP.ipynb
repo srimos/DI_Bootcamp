{
 "cells": [
  {
   "cell_type": "code",
   "execution_count": null,
   "id": "63456edf",
   "metadata": {},
   "outputs": [
    {
     "name": "stdout",
     "output_type": "stream",
     "text": [
      "There are 4622 rows in 'chipo'.\n",
      "There are 5 columns in 'chipo'.\n"
     ]
    },
    {
     "data": {
      "text/plain": [
       "item_name   \n",
       "Chicken Bowl    726\n",
       "Name: count, dtype: int64"
      ]
     },
     "execution_count": 4,
     "metadata": {},
     "output_type": "execute_result"
    }
   ],
   "source": [
    "# 🌟Exercise 1: Getting & Knowing Your Data (chipo)\n",
    "# Instructions\n",
    "# 1. Start by importing the necessary libraries.\n",
    "import numpy as np\n",
    "import pandas as pd\n",
    "\n",
    "# 2. Retrieve the dataset from this link and assign it to a variable ‘chipo’.\n",
    "# Note: You will be using ‘chipo’ in future exercises in the XP Gold and XP Ninja sections.\n",
    "chipo=pd.read_csv('chipotle.tsv', sep='\\t')\n",
    "\n",
    "# 3. Display the first 10 rows of ‘chipo’ using the head() function.\n",
    "chipo.head(10)\n",
    "\n",
    "# 4. Determine the total number of entries (rows) in ‘chipo’ using shape or info().\n",
    "print(f\"There are {chipo.shape[0]} rows in 'chipo'.\")\n",
    "\n",
    "# 5. Use shape or columns to find the total number of columns in ‘chipo’.\n",
    "print(f\"There are {chipo.shape[1]} columns in 'chipo'.\")\n",
    "\n",
    "# 6. Use columns to print all the column names.\n",
    "chipo.columns\n",
    "\n",
    "# 7. Utilize index to understand how the DataFrame is indexed.\n",
    "chipo.index\n",
    "\n",
    "# 8. Use the value_counts() method on the ‘item_name’ column to find the most ordered item.\n",
    "chipo_count=chipo.value_counts(['item_name'])\n",
    "chipo_count.head(1)\n",
    "\n",
    "# Find the total number of items ordered by summing the ‘quantity’ column.\n",
    "\n",
    "\n",
    "# Use value_counts() on ‘choice_description’ to find the most ordered item from this column.\n",
    "\n",
    "\n",
    "# Convert ‘item_price’ to a float datatype using apply() and lambda. (Hint: You’ll need to remove the ‘$’ from the prices first)\n",
    "\n",
    "# chipo['item_price'] = chipo['item_price'].apply(lambda x: float(x.replace('$', '')))\n",
    "\n",
    "\n",
    "# Calculate the total revenue for the dataset by summing the ‘item_price’ column.\n",
    "\n",
    "\n",
    "# Find the total number of orders by using the nunique() function on the ‘order_id’ column.\n",
    "\n",
    "\n",
    "# Compute the average order value by dividing the total revenue by the number of orders.\n",
    "\n",
    "\n",
    "# Determine the total number of unique items sold using the nunique() function on the ‘item_name’ column.\n",
    "\n",
    "\n",
    "\n",
    "\n",
    "\n",
    "\n"
   ]
  }
 ],
 "metadata": {
  "kernelspec": {
   "display_name": ".venv",
   "language": "python",
   "name": "python3"
  },
  "language_info": {
   "codemirror_mode": {
    "name": "ipython",
    "version": 3
   },
   "file_extension": ".py",
   "mimetype": "text/x-python",
   "name": "python",
   "nbconvert_exporter": "python",
   "pygments_lexer": "ipython3",
   "version": "3.13.5"
  }
 },
 "nbformat": 4,
 "nbformat_minor": 5
}
