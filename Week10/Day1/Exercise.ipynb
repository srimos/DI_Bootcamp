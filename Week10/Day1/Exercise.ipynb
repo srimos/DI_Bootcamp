{
 "cells": [
  {
   "cell_type": "code",
   "execution_count": 1,
   "id": "6fdd0ce9",
   "metadata": {},
   "outputs": [
    {
     "name": "stdout",
     "output_type": "stream",
     "text": [
      "     Fruits  Quantity  Colour  Price per kg\n",
      "0    Apples        20     Red             3\n",
      "1   Bananas        30  Yellow             2\n",
      "2  Cherries        15     Red             4\n",
      "3     Dates        10   Brown             5\n"
     ]
    }
   ],
   "source": [
    "import pandas as pd\n",
    "\n",
    "df = pd.DataFrame({\n",
    "   \"Fruits\": [\"Apples\", \"Bananas\", \"Cherries\", \"Dates\"],\n",
    "   \"Quantity\": [20,30,15,10],\n",
    "   \"Colour\": [\"Red\", \"Yellow\", \"Red\", \"Brown\"],\n",
    "   \"Price per kg\": [3,2,4,5]\n",
    "})\n",
    "print(df)\n",
    "\n",
    "df.to_csv('store_1_stock.csv', index=False)"
   ]
  },
  {
   "cell_type": "code",
   "execution_count": 2,
   "id": "6249fcf6",
   "metadata": {},
   "outputs": [
    {
     "name": "stdout",
     "output_type": "stream",
     "text": [
      "     Fruits  Quantity  Colour  Price per kg\n",
      "0    Apples        20     Red             3\n",
      "1   Bananas        30  Yellow             2\n",
      "2  Cherries        15     Red             4\n",
      "3     Dates        10   Brown             5\n"
     ]
    }
   ],
   "source": [
    "store_1_stock = pd.read_csv('store_1_stock.csv')\n",
    "print(store_1_stock)\n"
   ]
  },
  {
   "cell_type": "code",
   "execution_count": 3,
   "id": "6e28fb7a",
   "metadata": {},
   "outputs": [
    {
     "data": {
      "text/html": [
       "<div>\n",
       "<style scoped>\n",
       "    .dataframe tbody tr th:only-of-type {\n",
       "        vertical-align: middle;\n",
       "    }\n",
       "\n",
       "    .dataframe tbody tr th {\n",
       "        vertical-align: top;\n",
       "    }\n",
       "\n",
       "    .dataframe thead th {\n",
       "        text-align: right;\n",
       "    }\n",
       "</style>\n",
       "<table border=\"1\" class=\"dataframe\">\n",
       "  <thead>\n",
       "    <tr style=\"text-align: right;\">\n",
       "      <th></th>\n",
       "      <th>Fruits</th>\n",
       "      <th>Quantity</th>\n",
       "      <th>Colour</th>\n",
       "      <th>Price per kg</th>\n",
       "    </tr>\n",
       "  </thead>\n",
       "  <tbody>\n",
       "    <tr>\n",
       "      <th>0</th>\n",
       "      <td>Apples</td>\n",
       "      <td>20</td>\n",
       "      <td>Red</td>\n",
       "      <td>3</td>\n",
       "    </tr>\n",
       "    <tr>\n",
       "      <th>1</th>\n",
       "      <td>Bananas</td>\n",
       "      <td>30</td>\n",
       "      <td>Yellow</td>\n",
       "      <td>2</td>\n",
       "    </tr>\n",
       "    <tr>\n",
       "      <th>2</th>\n",
       "      <td>Cherries</td>\n",
       "      <td>15</td>\n",
       "      <td>Red</td>\n",
       "      <td>4</td>\n",
       "    </tr>\n",
       "  </tbody>\n",
       "</table>\n",
       "</div>"
      ],
      "text/plain": [
       "     Fruits  Quantity  Colour  Price per kg\n",
       "0    Apples        20     Red             3\n",
       "1   Bananas        30  Yellow             2\n",
       "2  Cherries        15     Red             4"
      ]
     },
     "execution_count": 3,
     "metadata": {},
     "output_type": "execute_result"
    }
   ],
   "source": [
    "store_1_stock.head(3)"
   ]
  },
  {
   "cell_type": "code",
   "execution_count": 4,
   "id": "241bb6d0",
   "metadata": {},
   "outputs": [
    {
     "data": {
      "text/html": [
       "<div>\n",
       "<style scoped>\n",
       "    .dataframe tbody tr th:only-of-type {\n",
       "        vertical-align: middle;\n",
       "    }\n",
       "\n",
       "    .dataframe tbody tr th {\n",
       "        vertical-align: top;\n",
       "    }\n",
       "\n",
       "    .dataframe thead th {\n",
       "        text-align: right;\n",
       "    }\n",
       "</style>\n",
       "<table border=\"1\" class=\"dataframe\">\n",
       "  <thead>\n",
       "    <tr style=\"text-align: right;\">\n",
       "      <th></th>\n",
       "      <th>Fruits</th>\n",
       "      <th>Quantity</th>\n",
       "      <th>Colour</th>\n",
       "      <th>Price per kg</th>\n",
       "    </tr>\n",
       "  </thead>\n",
       "  <tbody>\n",
       "    <tr>\n",
       "      <th>1</th>\n",
       "      <td>Bananas</td>\n",
       "      <td>30</td>\n",
       "      <td>Yellow</td>\n",
       "      <td>2</td>\n",
       "    </tr>\n",
       "    <tr>\n",
       "      <th>2</th>\n",
       "      <td>Cherries</td>\n",
       "      <td>15</td>\n",
       "      <td>Red</td>\n",
       "      <td>4</td>\n",
       "    </tr>\n",
       "    <tr>\n",
       "      <th>3</th>\n",
       "      <td>Dates</td>\n",
       "      <td>10</td>\n",
       "      <td>Brown</td>\n",
       "      <td>5</td>\n",
       "    </tr>\n",
       "  </tbody>\n",
       "</table>\n",
       "</div>"
      ],
      "text/plain": [
       "     Fruits  Quantity  Colour  Price per kg\n",
       "1   Bananas        30  Yellow             2\n",
       "2  Cherries        15     Red             4\n",
       "3     Dates        10   Brown             5"
      ]
     },
     "execution_count": 4,
     "metadata": {},
     "output_type": "execute_result"
    }
   ],
   "source": [
    "store_1_stock.tail(3)"
   ]
  },
  {
   "cell_type": "code",
   "execution_count": 5,
   "id": "7fd9ebfb",
   "metadata": {},
   "outputs": [
    {
     "data": {
      "text/html": [
       "<div>\n",
       "<style scoped>\n",
       "    .dataframe tbody tr th:only-of-type {\n",
       "        vertical-align: middle;\n",
       "    }\n",
       "\n",
       "    .dataframe tbody tr th {\n",
       "        vertical-align: top;\n",
       "    }\n",
       "\n",
       "    .dataframe thead th {\n",
       "        text-align: right;\n",
       "    }\n",
       "</style>\n",
       "<table border=\"1\" class=\"dataframe\">\n",
       "  <thead>\n",
       "    <tr style=\"text-align: right;\">\n",
       "      <th></th>\n",
       "      <th>Quantity</th>\n",
       "      <th>Price per kg</th>\n",
       "    </tr>\n",
       "  </thead>\n",
       "  <tbody>\n",
       "    <tr>\n",
       "      <th>count</th>\n",
       "      <td>4.000000</td>\n",
       "      <td>4.000000</td>\n",
       "    </tr>\n",
       "    <tr>\n",
       "      <th>mean</th>\n",
       "      <td>18.750000</td>\n",
       "      <td>3.500000</td>\n",
       "    </tr>\n",
       "    <tr>\n",
       "      <th>std</th>\n",
       "      <td>8.539126</td>\n",
       "      <td>1.290994</td>\n",
       "    </tr>\n",
       "    <tr>\n",
       "      <th>min</th>\n",
       "      <td>10.000000</td>\n",
       "      <td>2.000000</td>\n",
       "    </tr>\n",
       "    <tr>\n",
       "      <th>25%</th>\n",
       "      <td>13.750000</td>\n",
       "      <td>2.750000</td>\n",
       "    </tr>\n",
       "    <tr>\n",
       "      <th>50%</th>\n",
       "      <td>17.500000</td>\n",
       "      <td>3.500000</td>\n",
       "    </tr>\n",
       "    <tr>\n",
       "      <th>75%</th>\n",
       "      <td>22.500000</td>\n",
       "      <td>4.250000</td>\n",
       "    </tr>\n",
       "    <tr>\n",
       "      <th>max</th>\n",
       "      <td>30.000000</td>\n",
       "      <td>5.000000</td>\n",
       "    </tr>\n",
       "  </tbody>\n",
       "</table>\n",
       "</div>"
      ],
      "text/plain": [
       "        Quantity  Price per kg\n",
       "count   4.000000      4.000000\n",
       "mean   18.750000      3.500000\n",
       "std     8.539126      1.290994\n",
       "min    10.000000      2.000000\n",
       "25%    13.750000      2.750000\n",
       "50%    17.500000      3.500000\n",
       "75%    22.500000      4.250000\n",
       "max    30.000000      5.000000"
      ]
     },
     "execution_count": 5,
     "metadata": {},
     "output_type": "execute_result"
    }
   ],
   "source": [
    "store_1_stock.describe()"
   ]
  },
  {
   "cell_type": "code",
   "execution_count": 6,
   "id": "81bbb7b5",
   "metadata": {},
   "outputs": [
    {
     "name": "stdout",
     "output_type": "stream",
     "text": [
      "<class 'pandas.core.frame.DataFrame'>\n",
      "RangeIndex: 4 entries, 0 to 3\n",
      "Data columns (total 4 columns):\n",
      " #   Column        Non-Null Count  Dtype \n",
      "---  ------        --------------  ----- \n",
      " 0   Fruits        4 non-null      object\n",
      " 1   Quantity      4 non-null      int64 \n",
      " 2   Colour        4 non-null      object\n",
      " 3   Price per kg  4 non-null      int64 \n",
      "dtypes: int64(2), object(2)\n",
      "memory usage: 260.0+ bytes\n"
     ]
    }
   ],
   "source": [
    "store_1_stock.info()"
   ]
  },
  {
   "cell_type": "code",
   "execution_count": 7,
   "id": "c76fbb11",
   "metadata": {},
   "outputs": [
    {
     "name": "stdout",
     "output_type": "stream",
     "text": [
      "     Fruits  Quantity  Colour  Price per kg\n",
      "0    Apples        20     Red             3\n",
      "1   Bananas        30  Yellow             2\n",
      "2  Cherries        15     Red             4\n",
      "3     Dates        10   Brown             5\n",
      "The total quantity of Fruits is 75\n"
     ]
    }
   ],
   "source": [
    "df=store_1_stock\n",
    "print(df)\n",
    "print(f\"The total quantity of Fruits is {df[\"Quantity\"].sum()}\")\n"
   ]
  },
  {
   "cell_type": "code",
   "execution_count": 8,
   "id": "72ccf11c",
   "metadata": {},
   "outputs": [
    {
     "name": "stdout",
     "output_type": "stream",
     "text": [
      "     Fruits  Quantity  Colour  Price per kg\n",
      "1   Bananas        30  Yellow             2\n",
      "0    Apples        20     Red             3\n",
      "2  Cherries        15     Red             4\n"
     ]
    }
   ],
   "source": [
    "print(df.nlargest(3, \"Quantity\")) "
   ]
  },
  {
   "cell_type": "code",
   "execution_count": 9,
   "id": "1af0264c",
   "metadata": {},
   "outputs": [
    {
     "name": "stdout",
     "output_type": "stream",
     "text": [
      "     Fruits  Quantity  Colour  Price per kg\n",
      "0    Apples        20     Red             3\n",
      "1   Bananas        30  Yellow             2\n",
      "2  Cherries        15     Red             4\n",
      "3     Dates        10   Brown             5\n",
      "The quantity of Bananas is 30\n"
     ]
    }
   ],
   "source": [
    "print(df)\n",
    "df.set_index('Fruits', inplace=True)\n",
    "print(f\"The quantity of Bananas is {df.loc['Bananas', 'Quantity']}\")"
   ]
  },
  {
   "cell_type": "code",
   "execution_count": 10,
   "id": "baf50659",
   "metadata": {},
   "outputs": [
    {
     "name": "stdout",
     "output_type": "stream",
     "text": [
      "          Quantity  Colour  Price per kg\n",
      "Fruits                                  \n",
      "Apples          20     Red             3\n",
      "Bananas         30  Yellow             2\n",
      "Cherries        15     Red             4\n",
      "Dates           10   Brown             5\n",
      "The quantity of Dates is 10\n"
     ]
    }
   ],
   "source": [
    "print(df)\n",
    "\n",
    "print(f\"The quantity of Dates is {df.iloc[3, 0]}\")"
   ]
  },
  {
   "cell_type": "code",
   "execution_count": 11,
   "id": "3509505e",
   "metadata": {},
   "outputs": [
    {
     "data": {
      "text/html": [
       "<div>\n",
       "<style scoped>\n",
       "    .dataframe tbody tr th:only-of-type {\n",
       "        vertical-align: middle;\n",
       "    }\n",
       "\n",
       "    .dataframe tbody tr th {\n",
       "        vertical-align: top;\n",
       "    }\n",
       "\n",
       "    .dataframe thead th {\n",
       "        text-align: right;\n",
       "    }\n",
       "</style>\n",
       "<table border=\"1\" class=\"dataframe\">\n",
       "  <thead>\n",
       "    <tr style=\"text-align: right;\">\n",
       "      <th></th>\n",
       "      <th>Quantity</th>\n",
       "      <th>Original Price</th>\n",
       "      <th>Sales Price</th>\n",
       "    </tr>\n",
       "    <tr>\n",
       "      <th>Fruits</th>\n",
       "      <th></th>\n",
       "      <th></th>\n",
       "      <th></th>\n",
       "    </tr>\n",
       "  </thead>\n",
       "  <tbody>\n",
       "    <tr>\n",
       "      <th>Apples</th>\n",
       "      <td>20</td>\n",
       "      <td>3</td>\n",
       "      <td>0.3</td>\n",
       "    </tr>\n",
       "    <tr>\n",
       "      <th>Bananas</th>\n",
       "      <td>30</td>\n",
       "      <td>2</td>\n",
       "      <td>0.2</td>\n",
       "    </tr>\n",
       "    <tr>\n",
       "      <th>Cherries</th>\n",
       "      <td>15</td>\n",
       "      <td>4</td>\n",
       "      <td>0.4</td>\n",
       "    </tr>\n",
       "    <tr>\n",
       "      <th>Dates</th>\n",
       "      <td>10</td>\n",
       "      <td>5</td>\n",
       "      <td>0.5</td>\n",
       "    </tr>\n",
       "  </tbody>\n",
       "</table>\n",
       "</div>"
      ],
      "text/plain": [
       "          Quantity  Original Price  Sales Price\n",
       "Fruits                                         \n",
       "Apples          20               3          0.3\n",
       "Bananas         30               2          0.2\n",
       "Cherries        15               4          0.4\n",
       "Dates           10               5          0.5"
      ]
     },
     "execution_count": 11,
     "metadata": {},
     "output_type": "execute_result"
    }
   ],
   "source": [
    "df[\"Sales Price\"]=df[\"Price per kg\"]*0.1\n",
    "df.rename(columns={'Price per kg': 'Original Price'}, inplace=True)\n",
    "df.drop('Colour', axis=1, inplace=True)\n",
    "df"
   ]
  },
  {
   "cell_type": "code",
   "execution_count": 12,
   "id": "9001baab",
   "metadata": {},
   "outputs": [
    {
     "data": {
      "text/html": [
       "<div>\n",
       "<style scoped>\n",
       "    .dataframe tbody tr th:only-of-type {\n",
       "        vertical-align: middle;\n",
       "    }\n",
       "\n",
       "    .dataframe tbody tr th {\n",
       "        vertical-align: top;\n",
       "    }\n",
       "\n",
       "    .dataframe thead th {\n",
       "        text-align: right;\n",
       "    }\n",
       "</style>\n",
       "<table border=\"1\" class=\"dataframe\">\n",
       "  <thead>\n",
       "    <tr style=\"text-align: right;\">\n",
       "      <th></th>\n",
       "      <th>Quantity</th>\n",
       "      <th>Original Price</th>\n",
       "      <th>Sales Price</th>\n",
       "    </tr>\n",
       "  </thead>\n",
       "  <tbody>\n",
       "    <tr>\n",
       "      <th>Apples</th>\n",
       "      <td>20.0</td>\n",
       "      <td>3.0</td>\n",
       "      <td>0.3</td>\n",
       "    </tr>\n",
       "    <tr>\n",
       "      <th>Bananas</th>\n",
       "      <td>30.0</td>\n",
       "      <td>2.0</td>\n",
       "      <td>0.2</td>\n",
       "    </tr>\n",
       "    <tr>\n",
       "      <th>Cherries</th>\n",
       "      <td>15.0</td>\n",
       "      <td>4.0</td>\n",
       "      <td>0.4</td>\n",
       "    </tr>\n",
       "    <tr>\n",
       "      <th>Dates</th>\n",
       "      <td>10.0</td>\n",
       "      <td>5.0</td>\n",
       "      <td>0.5</td>\n",
       "    </tr>\n",
       "    <tr>\n",
       "      <th>Grapes</th>\n",
       "      <td>NaN</td>\n",
       "      <td>3.5</td>\n",
       "      <td>NaN</td>\n",
       "    </tr>\n",
       "  </tbody>\n",
       "</table>\n",
       "</div>"
      ],
      "text/plain": [
       "          Quantity  Original Price  Sales Price\n",
       "Apples        20.0             3.0          0.3\n",
       "Bananas       30.0             2.0          0.2\n",
       "Cherries      15.0             4.0          0.4\n",
       "Dates         10.0             5.0          0.5\n",
       "Grapes         NaN             3.5          NaN"
      ]
     },
     "execution_count": 12,
     "metadata": {},
     "output_type": "execute_result"
    }
   ],
   "source": [
    "import numpy as np\n",
    "\n",
    "new_data = pd.DataFrame({\"Quantity\": [np.nan], \"Original Price\": [3.5]}, index=[\"Grapes\"])\n",
    "df = pd.concat([df, new_data], ignore_index=False) # pd.concat adds a new row\n",
    "df"
   ]
  },
  {
   "cell_type": "code",
   "execution_count": 13,
   "id": "b6dfc458",
   "metadata": {},
   "outputs": [
    {
     "name": "stdout",
     "output_type": "stream",
     "text": [
      "          Quantity  Original Price  Sales Price\n",
      "Apples       False           False        False\n",
      "Bananas      False           False        False\n",
      "Cherries     False           False        False\n",
      "Dates        False           False        False\n",
      "Grapes        True           False         True\n"
     ]
    }
   ],
   "source": [
    "print(df.isna()) "
   ]
  },
  {
   "cell_type": "code",
   "execution_count": 14,
   "id": "1d9933f7",
   "metadata": {},
   "outputs": [
    {
     "data": {
      "text/plain": [
       "dtype('float64')"
      ]
     },
     "execution_count": 14,
     "metadata": {},
     "output_type": "execute_result"
    }
   ],
   "source": [
    "df['Quantity'].dtype"
   ]
  },
  {
   "cell_type": "code",
   "execution_count": 21,
   "id": "8ee20a11",
   "metadata": {},
   "outputs": [
    {
     "data": {
      "text/html": [
       "<div>\n",
       "<style scoped>\n",
       "    .dataframe tbody tr th:only-of-type {\n",
       "        vertical-align: middle;\n",
       "    }\n",
       "\n",
       "    .dataframe tbody tr th {\n",
       "        vertical-align: top;\n",
       "    }\n",
       "\n",
       "    .dataframe thead th {\n",
       "        text-align: right;\n",
       "    }\n",
       "</style>\n",
       "<table border=\"1\" class=\"dataframe\">\n",
       "  <thead>\n",
       "    <tr style=\"text-align: right;\">\n",
       "      <th></th>\n",
       "      <th>Quantity</th>\n",
       "      <th>Original Price</th>\n",
       "      <th>Sales Price</th>\n",
       "    </tr>\n",
       "  </thead>\n",
       "  <tbody>\n",
       "    <tr>\n",
       "      <th>Apples</th>\n",
       "      <td>20</td>\n",
       "      <td>3.0</td>\n",
       "      <td>0.3</td>\n",
       "    </tr>\n",
       "    <tr>\n",
       "      <th>Bananas</th>\n",
       "      <td>30</td>\n",
       "      <td>2.0</td>\n",
       "      <td>0.2</td>\n",
       "    </tr>\n",
       "    <tr>\n",
       "      <th>Cherries</th>\n",
       "      <td>15</td>\n",
       "      <td>4.0</td>\n",
       "      <td>0.4</td>\n",
       "    </tr>\n",
       "    <tr>\n",
       "      <th>Dates</th>\n",
       "      <td>10</td>\n",
       "      <td>5.0</td>\n",
       "      <td>0.5</td>\n",
       "    </tr>\n",
       "  </tbody>\n",
       "</table>\n",
       "</div>"
      ],
      "text/plain": [
       "          Quantity  Original Price  Sales Price\n",
       "Apples          20             3.0          0.3\n",
       "Bananas         30             2.0          0.2\n",
       "Cherries        15             4.0          0.4\n",
       "Dates           10             5.0          0.5"
      ]
     },
     "execution_count": 21,
     "metadata": {},
     "output_type": "execute_result"
    }
   ],
   "source": [
    "df.dropna(inplace=True)\n",
    "df['Quantity'] = df['Quantity'].astype('int8')\n",
    "df"
   ]
  },
  {
   "cell_type": "code",
   "execution_count": 35,
   "id": "f3f7c63f",
   "metadata": {},
   "outputs": [
    {
     "name": "stdout",
     "output_type": "stream",
     "text": [
      "The total quantity of all fruits is 75.\n",
      "The name and quantity of the fruit with the highest quantity is Bananas and 30\n",
      "The name and quantity of the fruit with the highest quantity is Dates and 10\n",
      "The average original price per kg of fruits is 3.5.\n"
     ]
    }
   ],
   "source": [
    "print(f\"The total quantity of all fruits is {df[\"Quantity\"].sum()}.\")\n",
    "print(f\"The name and quantity of the fruit with the highest quantity is {df[\"Quantity\"].idxmax()} and {df[\"Quantity\"].max()}\")\n",
    "print(f\"The name and quantity of the fruit with the highest quantity is {df[\"Quantity\"].idxmin()} and {df[\"Quantity\"].min()}\")\n",
    "print(f\"The average original price per kg of fruits is {df[\"Original Price\"].mean()}.\")\n",
    "# - The average original price per kg of fruits."
   ]
  },
  {
   "cell_type": "code",
   "execution_count": null,
   "id": "9306282b",
   "metadata": {},
   "outputs": [
    {
     "name": "stdout",
     "output_type": "stream",
     "text": [
      "    Fruit  Quantity  Original_Price   Supplier\n",
      "0   Apple        20             3.0  Supplier1\n",
      "1  Banana        30             2.0  Supplier2\n",
      "2  Cherry        15             4.0  Supplier1\n",
      "3    Date        10             5.0  Supplier2\n",
      "4  Grapes        25             2.5  Supplier1\n"
     ]
    },
    {
     "data": {
      "text/html": [
       "<div>\n",
       "<style scoped>\n",
       "    .dataframe tbody tr th:only-of-type {\n",
       "        vertical-align: middle;\n",
       "    }\n",
       "\n",
       "    .dataframe tbody tr th {\n",
       "        vertical-align: top;\n",
       "    }\n",
       "\n",
       "    .dataframe thead th {\n",
       "        text-align: right;\n",
       "    }\n",
       "</style>\n",
       "<table border=\"1\" class=\"dataframe\">\n",
       "  <thead>\n",
       "    <tr style=\"text-align: right;\">\n",
       "      <th></th>\n",
       "      <th>Fruit</th>\n",
       "      <th>Quantity</th>\n",
       "      <th>Original_Price</th>\n",
       "      <th>Updated_price</th>\n",
       "    </tr>\n",
       "    <tr>\n",
       "      <th>Supplier</th>\n",
       "      <th></th>\n",
       "      <th></th>\n",
       "      <th></th>\n",
       "      <th></th>\n",
       "    </tr>\n",
       "  </thead>\n",
       "  <tbody>\n",
       "    <tr>\n",
       "      <th>Supplier1</th>\n",
       "      <td>AppleCherryGrapes</td>\n",
       "      <td>60</td>\n",
       "      <td>9.5</td>\n",
       "      <td>4.5</td>\n",
       "    </tr>\n",
       "    <tr>\n",
       "      <th>Supplier2</th>\n",
       "      <td>BananaDate</td>\n",
       "      <td>40</td>\n",
       "      <td>7.0</td>\n",
       "      <td>1.2</td>\n",
       "    </tr>\n",
       "  </tbody>\n",
       "</table>\n",
       "</div>"
      ],
      "text/plain": [
       "                       Fruit  Quantity  Original_Price  Updated_price\n",
       "Supplier                                                             \n",
       "Supplier1  AppleCherryGrapes        60             9.5            4.5\n",
       "Supplier2         BananaDate        40             7.0            1.2"
      ]
     },
     "execution_count": 57,
     "metadata": {},
     "output_type": "execute_result"
    }
   ],
   "source": [
    "import pandas as pd\n",
    "\n",
    "# Creating a DataFrame with data for the fruit vendor\n",
    "data = {\n",
    "    \"Fruit\": [\"Apple\", \"Banana\", \"Cherry\", \"Date\", \"Grapes\"],\n",
    "    \"Quantity\": [20, 30, 15, 10, 25], \n",
    "    \"Original_Price\": [3, 2, 4, 5, 2.5],\n",
    "    \"Supplier\": [\"Supplier1\", \"Supplier2\", \"Supplier1\", \"Supplier2\", \"Supplier1\"]\n",
    "}\n",
    "\n",
    "df = pd.DataFrame(data)\n",
    "\n",
    "# Display the DataFrame\n",
    "print(df)\n",
    "\n",
    "# - Create a function that will take the name of the fruit and return its new price.\n",
    "def get_new_price(name):\n",
    "    if name == \"Banana\":\n",
    "        return 1.2\n",
    "    if name == \"Apple\":\n",
    "        return 2.0 \n",
    "    if name == \"Grapes\":\n",
    "        return 2.5\n",
    "\n",
    "# - Apply this function to the Fruit column using the map() function and store the result in a new column Updated_Price.\n",
    "df['Updated_price']=df['Fruit'].map(get_new_price)\n",
    "df\n"
   ]
  },
  {
   "cell_type": "code",
   "execution_count": 58,
   "id": "35abae8e",
   "metadata": {},
   "outputs": [
    {
     "data": {
      "text/html": [
       "<div>\n",
       "<style scoped>\n",
       "    .dataframe tbody tr th:only-of-type {\n",
       "        vertical-align: middle;\n",
       "    }\n",
       "\n",
       "    .dataframe tbody tr th {\n",
       "        vertical-align: top;\n",
       "    }\n",
       "\n",
       "    .dataframe thead th {\n",
       "        text-align: right;\n",
       "    }\n",
       "</style>\n",
       "<table border=\"1\" class=\"dataframe\">\n",
       "  <thead>\n",
       "    <tr style=\"text-align: right;\">\n",
       "      <th></th>\n",
       "      <th>Fruit</th>\n",
       "      <th>Quantity</th>\n",
       "      <th>Original_Price</th>\n",
       "      <th>Updated_price</th>\n",
       "    </tr>\n",
       "    <tr>\n",
       "      <th>Supplier</th>\n",
       "      <th></th>\n",
       "      <th></th>\n",
       "      <th></th>\n",
       "      <th></th>\n",
       "    </tr>\n",
       "  </thead>\n",
       "  <tbody>\n",
       "    <tr>\n",
       "      <th>Supplier1</th>\n",
       "      <td>AppleCherryGrapes</td>\n",
       "      <td>60</td>\n",
       "      <td>9.5</td>\n",
       "      <td>4.5</td>\n",
       "    </tr>\n",
       "    <tr>\n",
       "      <th>Supplier2</th>\n",
       "      <td>BananaDate</td>\n",
       "      <td>40</td>\n",
       "      <td>7.0</td>\n",
       "      <td>1.2</td>\n",
       "    </tr>\n",
       "  </tbody>\n",
       "</table>\n",
       "</div>"
      ],
      "text/plain": [
       "                       Fruit  Quantity  Original_Price  Updated_price\n",
       "Supplier                                                             \n",
       "Supplier1  AppleCherryGrapes        60             9.5            4.5\n",
       "Supplier2         BananaDate        40             7.0            1.2"
      ]
     },
     "execution_count": 58,
     "metadata": {},
     "output_type": "execute_result"
    }
   ],
   "source": [
    "df_grouped=df.groupby('Supplier').sum()\n",
    "df_grouped"
   ]
  },
  {
   "cell_type": "code",
   "execution_count": null,
   "id": "d62762e7",
   "metadata": {},
   "outputs": [],
   "source": []
  },
  {
   "cell_type": "code",
   "execution_count": null,
   "id": "96e1134d",
   "metadata": {},
   "outputs": [
    {
     "data": {
      "text/html": [
       "<div>\n",
       "<style scoped>\n",
       "    .dataframe tbody tr th:only-of-type {\n",
       "        vertical-align: middle;\n",
       "    }\n",
       "\n",
       "    .dataframe tbody tr th {\n",
       "        vertical-align: top;\n",
       "    }\n",
       "\n",
       "    .dataframe thead th {\n",
       "        text-align: right;\n",
       "    }\n",
       "</style>\n",
       "<table border=\"1\" class=\"dataframe\">\n",
       "  <thead>\n",
       "    <tr style=\"text-align: right;\">\n",
       "      <th></th>\n",
       "      <th>B</th>\n",
       "      <th>C</th>\n",
       "    </tr>\n",
       "  </thead>\n",
       "  <tbody>\n",
       "    <tr>\n",
       "      <th>0</th>\n",
       "      <td>20</td>\n",
       "      <td>200</td>\n",
       "    </tr>\n",
       "    <tr>\n",
       "      <th>1</th>\n",
       "      <td>40</td>\n",
       "      <td>400</td>\n",
       "    </tr>\n",
       "    <tr>\n",
       "      <th>2</th>\n",
       "      <td>60</td>\n",
       "      <td>600</td>\n",
       "    </tr>\n",
       "    <tr>\n",
       "      <th>3</th>\n",
       "      <td>80</td>\n",
       "      <td>800</td>\n",
       "    </tr>\n",
       "  </tbody>\n",
       "</table>\n",
       "</div>"
      ],
      "text/plain": [
       "    B    C\n",
       "0  20  200\n",
       "1  40  400\n",
       "2  60  600\n",
       "3  80  800"
      ]
     },
     "execution_count": 47,
     "metadata": {},
     "output_type": "execute_result"
    }
   ],
   "source": [
    "import pandas as pd\n",
    "import numpy as np\n",
    "\n",
    "df = pd.DataFrame({\n",
    "    'A': [1, 2, 3, 4],\n",
    "    'B': [10, 20, 30, 40],\n",
    "    'C': [100, 200, 300, 400]\n",
    "})\n",
    "df\n",
    "def make_double(value):\n",
    "    return value * 2\n",
    "\n",
    "df[['B','C']].apply(make_double)\n",
    "df[['B','C']].apply(lambda value: value*2)"
   ]
  }
 ],
 "metadata": {
  "kernelspec": {
   "display_name": ".venv",
   "language": "python",
   "name": "python3"
  },
  "language_info": {
   "codemirror_mode": {
    "name": "ipython",
    "version": 3
   },
   "file_extension": ".py",
   "mimetype": "text/x-python",
   "name": "python",
   "nbconvert_exporter": "python",
   "pygments_lexer": "ipython3",
   "version": "3.13.5"
  }
 },
 "nbformat": 4,
 "nbformat_minor": 5
}
